{
  "nbformat": 4,
  "nbformat_minor": 0,
  "metadata": {
    "colab": {
      "provenance": [],
      "authorship_tag": "ABX9TyOWnP7DQZrpwsdP8MsTbXlG"
    },
    "kernelspec": {
      "name": "python3",
      "display_name": "Python 3"
    },
    "language_info": {
      "name": "python"
    }
  },
  "cells": [
    {
      "cell_type": "markdown",
      "source": [
        "1 Data\n",
        "\n",
        "Getting and Extracting Data"
      ],
      "metadata": {
        "id": "iVil400WTRqA"
      }
    },
    {
      "cell_type": "code",
      "source": [
        "import csv\n",
        "import tensorflow as tf\n",
        "import numpy as np\n",
        "from tensorflow.keras.preprocessing.text import Tokenizer\n",
        "from tensorflow.keras.preprocessing.sequence import pad_sequences\n",
        "from tensorflow import keras\n",
        "\n",
        "!wget --no-check-certificate \\\n",
        "    https://storage.googleapis.com/laurencemoroney-blog.appspot.com/bbc-text.csv \\\n",
        "    -O /tmp/bbc-text.csv"
      ],
      "metadata": {
        "id": "_B6JRY3hTXDg"
      },
      "execution_count": null,
      "outputs": []
    },
    {
      "cell_type": "code",
      "source": [
        "sentences = []\n",
        "labels = []\n",
        "stopwords = [ \"a\", \"about\", \"above\", \"after\", \"again\", \"against\", \"all\", \"am\", \"an\", \"and\", \"any\", \"are\", \"as\", \"at\", \"be\", \"because\", \"been\", \"before\", \"being\", \"below\", \"between\", \"both\", \"but\", \"by\", \"could\", \"did\", \"do\", \"does\", \"doing\", \"down\", \"during\", \"each\", \"few\", \"for\", \"from\", \"further\", \"had\", \"has\", \"have\", \"having\", \"he\", \"he'd\", \"he'll\", \"he's\", \"her\", \"here\", \"here's\", \"hers\", \"herself\", \"him\", \"himself\", \"his\", \"how\", \"how's\", \"i\", \"i'd\", \"i'll\", \"i'm\", \"i've\", \"if\", \"in\", \"into\", \"is\", \"it\", \"it's\", \"its\", \"itself\", \"let's\", \"me\", \"more\", \"most\", \"my\", \"myself\", \"nor\", \"of\", \"on\", \"once\", \"only\", \"or\", \"other\", \"ought\", \"our\", \"ours\", \"ourselves\", \"out\", \"over\", \"own\", \"same\", \"she\", \"she'd\", \"she'll\", \"she's\", \"should\", \"so\", \"some\", \"such\", \"than\", \"that\", \"that's\", \"the\", \"their\", \"theirs\", \"them\", \"themselves\", \"then\", \"there\", \"there's\", \"these\", \"they\", \"they'd\", \"they'll\", \"they're\", \"they've\", \"this\", \"those\", \"through\", \"to\", \"too\", \"under\", \"until\", \"up\", \"very\", \"was\", \"we\", \"we'd\", \"we'll\", \"we're\", \"we've\", \"were\", \"what\", \"what's\", \"when\", \"when's\", \"where\", \"where's\", \"which\", \"while\", \"who\", \"who's\", \"whom\", \"why\", \"why's\", \"with\", \"would\", \"you\", \"you'd\", \"you'll\", \"you're\", \"you've\", \"your\", \"yours\", \"yourself\", \"yourselves\" ]\n",
        "print(len(stopwords))"
      ],
      "metadata": {
        "colab": {
          "base_uri": "https://localhost:8080/"
        },
        "id": "PGyc_KgyTkcH",
        "outputId": "5eedc83c-45f9-4877-fb06-a0c51cfc7b51"
      },
      "execution_count": 2,
      "outputs": [
        {
          "output_type": "stream",
          "name": "stdout",
          "text": [
            "153\n"
          ]
        }
      ]
    },
    {
      "cell_type": "markdown",
      "source": [
        "From csv - Creating train and test sentences and labels\n"
      ],
      "metadata": {
        "id": "asvGvkE0Tmjm"
      }
    },
    {
      "cell_type": "code",
      "source": [
        "with open(\"/tmp/bbc-text.csv\", 'r') as csvfile:\n",
        "    reader = csv.reader(csvfile, delimiter=',')\n",
        "    next(reader)\n",
        "    for row in reader:\n",
        "        labels.append(row[0])\n",
        "        sentence = row[1]\n",
        "        for word in stopwords:\n",
        "            token = \" \" + word + \" \"\n",
        "            sentence = sentence.replace(token, \" \")\n",
        "            sentence = sentence.replace(\"  \", \" \")\n",
        "        sentences.append(sentence)\n",
        "\n",
        "    \n",
        "print(len(labels))\n",
        "print(len(sentences))\n",
        "print(sentences[0])"
      ],
      "metadata": {
        "colab": {
          "base_uri": "https://localhost:8080/"
        },
        "id": "ZHEJQESDTnaP",
        "outputId": "d8d9fb3c-a1e7-442b-c06a-28710545160e"
      },
      "execution_count": 3,
      "outputs": [
        {
          "output_type": "stream",
          "name": "stdout",
          "text": [
            "2225\n",
            "2225\n",
            "tv future hands viewers home theatre systems plasma high-definition tvs digital video recorders moving living room way people watch tv will radically different five years time. according expert panel gathered annual consumer electronics show las vegas discuss new technologies will impact one favourite pastimes. us leading trend programmes content will delivered viewers via home networks cable satellite telecoms companies broadband service providers front rooms portable devices. one talked-about technologies ces digital personal video recorders (dvr pvr). set-top boxes like us s tivo uk s sky+ system allow people record store play pause forward wind tv programmes want. essentially technology allows much personalised tv. also built-in high-definition tv sets big business japan us slower take off europe lack high-definition programming. not can people forward wind adverts can also forget abiding network channel schedules putting together a-la-carte entertainment. us networks cable satellite companies worried means terms advertising revenues well brand identity viewer loyalty channels. although us leads technology moment also concern raised europe particularly growing uptake services like sky+. happens today will see nine months years time uk adam hume bbc broadcast s futurologist told bbc news website. likes bbc no issues lost advertising revenue yet. pressing issue moment commercial uk broadcasters brand loyalty important everyone. will talking content brands rather network brands said tim hanlon brand communications firm starcom mediavest. reality broadband connections anybody can producer content. added: challenge now hard promote programme much choice. means said stacey jolna senior vice president tv guide tv group way people find content want watch simplified tv viewers. means networks us terms channels take leaf google s book search engine future instead scheduler help people find want watch. kind channel model might work younger ipod generation used taking control gadgets play them. might not suit everyone panel recognised. older generations comfortable familiar schedules channel brands know getting. perhaps not want much choice put hands mr hanlon suggested. end kids just diapers pushing buttons already - everything possible available said mr hanlon. ultimately consumer will tell market want. 50 000 new gadgets technologies showcased ces many enhancing tv-watching experience. high-definition tv sets everywhere many new models lcd (liquid crystal display) tvs launched dvr capability built instead external boxes. one example launched show humax s 26-inch lcd tv 80-hour tivo dvr dvd recorder. one us s biggest satellite tv companies directtv even launched branded dvr show 100-hours recording capability instant replay search function. set can pause rewind tv 90 hours. microsoft chief bill gates announced pre-show keynote speech partnership tivo called tivotogo means people can play recorded programmes windows pcs mobile devices. reflect increasing trend freeing multimedia people can watch want want.\n"
          ]
        }
      ]
    },
    {
      "cell_type": "code",
      "source": [
        "train_size = 1780\n",
        "\n",
        "train_sentences = sentences[:train_size]\n",
        "train_labels = labels[:train_size]\n",
        "\n",
        "validation_sentences = sentences[train_size:]\n",
        "validation_labels = labels[train_size:]\n",
        "\n",
        "print(train_size)\n",
        "print(len(train_sentences))\n",
        "print(len(train_labels))\n",
        "print(len(validation_sentences))\n",
        "print(len(validation_labels))"
      ],
      "metadata": {
        "colab": {
          "base_uri": "https://localhost:8080/"
        },
        "id": "eQdqo5DqTreH",
        "outputId": "7cb15ed9-df2a-4c91-91e5-7a0505bcb0f2"
      },
      "execution_count": 4,
      "outputs": [
        {
          "output_type": "stream",
          "name": "stdout",
          "text": [
            "1780\n",
            "1780\n",
            "1780\n",
            "445\n",
            "445\n"
          ]
        }
      ]
    },
    {
      "cell_type": "markdown",
      "source": [
        "Preprocessing - Tokenizer and Pad Sequences (both train and test data)\n"
      ],
      "metadata": {
        "id": "LV9F107WTu4f"
      }
    },
    {
      "cell_type": "code",
      "source": [
        "vocab_size = 1000\n",
        "embedding_dim = 16\n",
        "max_length = 120\n",
        "trunc_type = \"post\"\n",
        "padding_type = \"post\"\n",
        "oov_tok = \"\"\n",
        "training_portion = .8\n",
        "     \n",
        "\n",
        "tokenizer = Tokenizer( num_words = vocab_size, oov_token= oov_tok)\n",
        "tokenizer.fit_on_texts(train_sentences)\n",
        "word_index = tokenizer.word_index\n",
        "\n",
        "train_sequences = tokenizer.texts_to_sequences(train_sentences)\n",
        "train_padded = pad_sequences(train_sequences, maxlen = max_length, padding= padding_type, truncating= trunc_type)\n",
        "\n",
        "print(len(train_sequences[0]))\n",
        "print(len(train_padded[0]))\n",
        "\n",
        "print(len(train_sequences[1]))\n",
        "print(len(train_padded[1]))\n",
        "\n",
        "print(len(train_sequences[10]))\n",
        "print(len(train_padded[10]))"
      ],
      "metadata": {
        "colab": {
          "base_uri": "https://localhost:8080/"
        },
        "id": "OO4nKd1qTwDQ",
        "outputId": "e20057eb-9b3b-4d18-b99a-9f128ef44131"
      },
      "execution_count": 5,
      "outputs": [
        {
          "output_type": "stream",
          "name": "stdout",
          "text": [
            "449\n",
            "120\n",
            "200\n",
            "120\n",
            "192\n",
            "120\n"
          ]
        }
      ]
    },
    {
      "cell_type": "code",
      "source": [
        "validation_sequences = tokenizer.texts_to_sequences(validation_sentences)\n",
        "validation_padded = pad_sequences(validation_sequences, maxlen = max_length, padding = padding_type, truncating = trunc_type)\n",
        "\n",
        "print(len(validation_sequences))\n",
        "print(validation_padded.shape)"
      ],
      "metadata": {
        "colab": {
          "base_uri": "https://localhost:8080/"
        },
        "id": "CJJtlp-xT0MX",
        "outputId": "564f9d46-29ae-4911-dd44-22ec2f7458a4"
      },
      "execution_count": 6,
      "outputs": [
        {
          "output_type": "stream",
          "name": "stdout",
          "text": [
            "445\n",
            "(445, 120)\n"
          ]
        }
      ]
    },
    {
      "cell_type": "code",
      "source": [
        "label_tokenizer = Tokenizer()\n",
        "label_tokenizer.fit_on_texts(labels)\n",
        "\n",
        "training_label_seq = np.array(label_tokenizer.texts_to_sequences(train_labels))\n",
        "validation_label_seq = np.array(label_tokenizer.texts_to_sequences(validation_labels))\n",
        "\n",
        "print(training_label_seq[0])\n",
        "print(training_label_seq[1])\n",
        "print(training_label_seq[2])\n",
        "print(training_label_seq.shape)\n",
        "\n",
        "print(validation_label_seq[0])\n",
        "print(validation_label_seq[1])\n",
        "print(validation_label_seq[2])\n",
        "print(validation_label_seq.shape)"
      ],
      "metadata": {
        "colab": {
          "base_uri": "https://localhost:8080/"
        },
        "id": "9zeaMF4CT2tQ",
        "outputId": "86b18ea0-ee5b-465e-af3e-619ade5bbb9b"
      },
      "execution_count": 7,
      "outputs": [
        {
          "output_type": "stream",
          "name": "stdout",
          "text": [
            "[4]\n",
            "[2]\n",
            "[1]\n",
            "(1780, 1)\n",
            "[5]\n",
            "[4]\n",
            "[3]\n",
            "(445, 1)\n"
          ]
        }
      ]
    },
    {
      "cell_type": "markdown",
      "source": [
        "2 Model\n"
      ],
      "metadata": {
        "id": "KPzgwzLRT4sv"
      }
    },
    {
      "cell_type": "code",
      "source": [
        "model = tf.keras.Sequential([\n",
        "    tf.keras.layers.Embedding(vocab_size, embedding_dim, input_length=max_length),\n",
        "    tf.keras.layers.GlobalAveragePooling1D(),\n",
        "    tf.keras.layers.Dense(24, activation='relu'),\n",
        "    tf.keras.layers.Dense(6, activation='softmax')\n",
        "])\n",
        "model.compile(loss='sparse_categorical_crossentropy',optimizer='adam',metrics=['accuracy'])\n",
        "model.summary()"
      ],
      "metadata": {
        "colab": {
          "base_uri": "https://localhost:8080/"
        },
        "id": "lkk3F2TJT5Na",
        "outputId": "5280b3e5-6d07-4bfd-8412-e4a6eee428b9"
      },
      "execution_count": 8,
      "outputs": [
        {
          "output_type": "stream",
          "name": "stdout",
          "text": [
            "Model: \"sequential\"\n",
            "_________________________________________________________________\n",
            " Layer (type)                Output Shape              Param #   \n",
            "=================================================================\n",
            " embedding (Embedding)       (None, 120, 16)           16000     \n",
            "                                                                 \n",
            " global_average_pooling1d (G  (None, 16)               0         \n",
            " lobalAveragePooling1D)                                          \n",
            "                                                                 \n",
            " dense (Dense)               (None, 24)                408       \n",
            "                                                                 \n",
            " dense_1 (Dense)             (None, 6)                 150       \n",
            "                                                                 \n",
            "=================================================================\n",
            "Total params: 16,558\n",
            "Trainable params: 16,558\n",
            "Non-trainable params: 0\n",
            "_________________________________________________________________\n"
          ]
        }
      ]
    },
    {
      "cell_type": "code",
      "source": [
        "num_epochs = 30\n",
        "history = model.fit(\n",
        "    train_padded,\n",
        "    training_label_seq,\n",
        "    epochs = num_epochs, \n",
        "    validation_data = (validation_padded, validation_label_seq),\n",
        "    verbose = 2 \n",
        ")\n",
        "    "
      ],
      "metadata": {
        "colab": {
          "base_uri": "https://localhost:8080/"
        },
        "id": "TvZRwoiQT9Kw",
        "outputId": "6e449c24-8acf-4137-ae7e-8ee9531180d9"
      },
      "execution_count": 9,
      "outputs": [
        {
          "output_type": "stream",
          "name": "stdout",
          "text": [
            "Epoch 1/30\n",
            "56/56 - 1s - loss: 1.7658 - accuracy: 0.2753 - val_loss: 1.7355 - val_accuracy: 0.2674 - 1s/epoch - 27ms/step\n",
            "Epoch 2/30\n",
            "56/56 - 0s - loss: 1.6902 - accuracy: 0.2455 - val_loss: 1.6408 - val_accuracy: 0.2292 - 243ms/epoch - 4ms/step\n",
            "Epoch 3/30\n",
            "56/56 - 0s - loss: 1.5739 - accuracy: 0.2702 - val_loss: 1.5147 - val_accuracy: 0.4067 - 211ms/epoch - 4ms/step\n",
            "Epoch 4/30\n",
            "56/56 - 0s - loss: 1.4265 - accuracy: 0.4972 - val_loss: 1.3594 - val_accuracy: 0.5281 - 238ms/epoch - 4ms/step\n",
            "Epoch 5/30\n",
            "56/56 - 0s - loss: 1.2443 - accuracy: 0.7382 - val_loss: 1.1757 - val_accuracy: 0.8022 - 206ms/epoch - 4ms/step\n",
            "Epoch 6/30\n",
            "56/56 - 0s - loss: 1.0418 - accuracy: 0.8899 - val_loss: 0.9806 - val_accuracy: 0.8719 - 244ms/epoch - 4ms/step\n",
            "Epoch 7/30\n",
            "56/56 - 0s - loss: 0.8267 - accuracy: 0.9275 - val_loss: 0.7776 - val_accuracy: 0.9034 - 195ms/epoch - 3ms/step\n",
            "Epoch 8/30\n",
            "56/56 - 0s - loss: 0.6293 - accuracy: 0.9388 - val_loss: 0.6100 - val_accuracy: 0.9124 - 208ms/epoch - 4ms/step\n",
            "Epoch 9/30\n",
            "56/56 - 0s - loss: 0.4754 - accuracy: 0.9466 - val_loss: 0.4901 - val_accuracy: 0.9213 - 233ms/epoch - 4ms/step\n",
            "Epoch 10/30\n",
            "56/56 - 0s - loss: 0.3679 - accuracy: 0.9517 - val_loss: 0.4085 - val_accuracy: 0.9213 - 201ms/epoch - 4ms/step\n",
            "Epoch 11/30\n",
            "56/56 - 0s - loss: 0.2951 - accuracy: 0.9567 - val_loss: 0.3545 - val_accuracy: 0.9236 - 179ms/epoch - 3ms/step\n",
            "Epoch 12/30\n",
            "56/56 - 0s - loss: 0.2435 - accuracy: 0.9612 - val_loss: 0.3193 - val_accuracy: 0.9326 - 163ms/epoch - 3ms/step\n",
            "Epoch 13/30\n",
            "56/56 - 0s - loss: 0.2061 - accuracy: 0.9652 - val_loss: 0.2916 - val_accuracy: 0.9281 - 176ms/epoch - 3ms/step\n",
            "Epoch 14/30\n",
            "56/56 - 0s - loss: 0.1771 - accuracy: 0.9697 - val_loss: 0.2712 - val_accuracy: 0.9191 - 145ms/epoch - 3ms/step\n",
            "Epoch 15/30\n",
            "56/56 - 0s - loss: 0.1558 - accuracy: 0.9742 - val_loss: 0.2533 - val_accuracy: 0.9326 - 150ms/epoch - 3ms/step\n",
            "Epoch 16/30\n",
            "56/56 - 0s - loss: 0.1368 - accuracy: 0.9781 - val_loss: 0.2472 - val_accuracy: 0.9303 - 156ms/epoch - 3ms/step\n",
            "Epoch 17/30\n",
            "56/56 - 0s - loss: 0.1212 - accuracy: 0.9787 - val_loss: 0.2342 - val_accuracy: 0.9371 - 147ms/epoch - 3ms/step\n",
            "Epoch 18/30\n",
            "56/56 - 0s - loss: 0.1083 - accuracy: 0.9831 - val_loss: 0.2323 - val_accuracy: 0.9326 - 165ms/epoch - 3ms/step\n",
            "Epoch 19/30\n",
            "56/56 - 0s - loss: 0.0972 - accuracy: 0.9843 - val_loss: 0.2215 - val_accuracy: 0.9371 - 169ms/epoch - 3ms/step\n",
            "Epoch 20/30\n",
            "56/56 - 0s - loss: 0.0874 - accuracy: 0.9865 - val_loss: 0.2192 - val_accuracy: 0.9416 - 167ms/epoch - 3ms/step\n",
            "Epoch 21/30\n",
            "56/56 - 0s - loss: 0.0788 - accuracy: 0.9871 - val_loss: 0.2166 - val_accuracy: 0.9416 - 201ms/epoch - 4ms/step\n",
            "Epoch 22/30\n",
            "56/56 - 0s - loss: 0.0714 - accuracy: 0.9888 - val_loss: 0.2177 - val_accuracy: 0.9416 - 150ms/epoch - 3ms/step\n",
            "Epoch 23/30\n",
            "56/56 - 0s - loss: 0.0640 - accuracy: 0.9910 - val_loss: 0.2106 - val_accuracy: 0.9416 - 153ms/epoch - 3ms/step\n",
            "Epoch 24/30\n",
            "56/56 - 0s - loss: 0.0580 - accuracy: 0.9927 - val_loss: 0.2111 - val_accuracy: 0.9416 - 182ms/epoch - 3ms/step\n",
            "Epoch 25/30\n",
            "56/56 - 0s - loss: 0.0524 - accuracy: 0.9927 - val_loss: 0.2081 - val_accuracy: 0.9461 - 188ms/epoch - 3ms/step\n",
            "Epoch 26/30\n",
            "56/56 - 0s - loss: 0.0476 - accuracy: 0.9938 - val_loss: 0.2037 - val_accuracy: 0.9483 - 242ms/epoch - 4ms/step\n",
            "Epoch 27/30\n",
            "56/56 - 0s - loss: 0.0435 - accuracy: 0.9949 - val_loss: 0.2126 - val_accuracy: 0.9483 - 179ms/epoch - 3ms/step\n",
            "Epoch 28/30\n",
            "56/56 - 0s - loss: 0.0395 - accuracy: 0.9955 - val_loss: 0.2083 - val_accuracy: 0.9551 - 211ms/epoch - 4ms/step\n",
            "Epoch 29/30\n",
            "56/56 - 0s - loss: 0.0361 - accuracy: 0.9961 - val_loss: 0.2086 - val_accuracy: 0.9416 - 184ms/epoch - 3ms/step\n",
            "Epoch 30/30\n",
            "56/56 - 0s - loss: 0.0332 - accuracy: 0.9972 - val_loss: 0.2109 - val_accuracy: 0.9461 - 252ms/epoch - 4ms/step\n"
          ]
        }
      ]
    },
    {
      "cell_type": "markdown",
      "source": [
        "3 Plotting Loss and Accuracy\n"
      ],
      "metadata": {
        "id": "zXqGK9nDUAAo"
      }
    },
    {
      "cell_type": "code",
      "source": [
        "import matplotlib.pyplot as plt\n",
        "\n",
        "\n",
        "def plot_graphs(history, string):\n",
        "  plt.plot(history.history[string])\n",
        "  plt.plot(history.history['val_'+string])\n",
        "  plt.xlabel(\"Epochs\")\n",
        "  plt.ylabel(string)\n",
        "  plt.legend([string, 'val_'+string])\n",
        "  plt.show()\n",
        "  \n",
        "plot_graphs(history, \"accuracy\")\n",
        "plot_graphs(history, \"loss\")"
      ],
      "metadata": {
        "colab": {
          "base_uri": "https://localhost:8080/",
          "height": 541
        },
        "id": "8aq0HU92UApI",
        "outputId": "0ed134ee-8bd3-4d04-b7ce-9427a8690e34"
      },
      "execution_count": 10,
      "outputs": [
        {
          "output_type": "display_data",
          "data": {
            "text/plain": [
              "<Figure size 432x288 with 1 Axes>"
            ],
            "image/png": "[encoded data removed]"
          },
          "metadata": {
            "needs_background": "light"
          }
        },
        {
          "output_type": "display_data",
          "data": {
            "text/plain": [
              "<Figure size 432x288 with 1 Axes>"
            ],
            "image/png": "[encoded data removed]"
          },
          "metadata": {
            "needs_background": "light"
          }
        }
      ]
    },
    {
      "cell_type": "markdown",
      "source": [
        "4 Creating tsv data\n"
      ],
      "metadata": {
        "id": "xb6AzM27UDtw"
      }
    },
    {
      "cell_type": "code",
      "source": [
        "reverse_word_index = dict([(value, key) for (key, value) in word_index.items()])\n",
        "\n",
        "def decode_sentence(text):\n",
        "    return ' '.join([reverse_word_index.get(i, '?') for i in text])\n",
        "\n",
        "     \n",
        "\n",
        "e = model.layers[0]\n",
        "weights = e.get_weights()[0]\n",
        "print(weights.shape)"
      ],
      "metadata": {
        "colab": {
          "base_uri": "https://localhost:8080/"
        },
        "id": "gssGBAS8UELn",
        "outputId": "939902f3-fef7-411d-d837-a64c2dedecc6"
      },
      "execution_count": 11,
      "outputs": [
        {
          "output_type": "stream",
          "name": "stdout",
          "text": [
            "(1000, 16)\n"
          ]
        }
      ]
    },
    {
      "cell_type": "code",
      "source": [
        "import io\n",
        "\n",
        "out_v = io.open('vecs.tsv', 'w', encoding='utf-8')\n",
        "out_m = io.open('meta.tsv', 'w', encoding='utf-8')\n",
        "\n",
        "for word_num in range(1, vocab_size):\n",
        "\n",
        "  word = reverse_word_index[word_num]\n",
        "  embeddings = weights[word_num]\n",
        "\n",
        "  out_m.write(word + \"\\n\")\n",
        "  out_v.write('\\t'.join([str(x) for x in embeddings]) + \"\\n\")\n",
        "\n",
        "out_v.close()\n",
        "out_m.close()"
      ],
      "metadata": {
        "id": "zA91FGKdUG-A"
      },
      "execution_count": 12,
      "outputs": []
    },
    {
      "cell_type": "code",
      "source": [
        "try:\n",
        "  from google.colab import files\n",
        "except ImportError:\n",
        "  pass\n",
        "else:\n",
        "  files.download('vecs.tsv')\n",
        "  files.download('meta.tsv')"
      ],
      "metadata": {
        "colab": {
          "base_uri": "https://localhost:8080/",
          "height": 17
        },
        "id": "LdN2YaKfUKQA",
        "outputId": "34765851-1b53-4c31-af2a-7e76fd012065"
      },
      "execution_count": 13,
      "outputs": [
        {
          "output_type": "display_data",
          "data": {
            "text/plain": [
              "<IPython.core.display.Javascript object>"
            ],
            "application/javascript": [
              "\n",
              "    async function download(id, filename, size) {\n",
              "      if (!google.colab.kernel.accessAllowed) {\n",
              "        return;\n",
              "      }\n",
              "      const div = document.createElement('div');\n",
              "      const label = document.createElement('label');\n",
              "      label.textContent = `Downloading \"${filename}\": `;\n",
              "      div.appendChild(label);\n",
              "      const progress = document.createElement('progress');\n",
              "      progress.max = size;\n",
              "      div.appendChild(progress);\n",
              "      document.body.appendChild(div);\n",
              "\n",
              "      const buffers = [];\n",
              "      let downloaded = 0;\n",
              "\n",
              "      const channel = await google.colab.kernel.comms.open(id);\n",
              "      // Send a message to notify the kernel that we're ready.\n",
              "      channel.send({})\n",
              "\n",
              "      for await (const message of channel.messages) {\n",
              "        // Send a message to notify the kernel that we're ready.\n",
              "        channel.send({})\n",
              "        if (message.buffers) {\n",
              "          for (const buffer of message.buffers) {\n",
              "            buffers.push(buffer);\n",
              "            downloaded += buffer.byteLength;\n",
              "            progress.value = downloaded;\n",
              "          }\n",
              "        }\n",
              "      }\n",
              "      const blob = new Blob(buffers, {type: 'application/binary'});\n",
              "      const a = document.createElement('a');\n",
              "      a.href = window.URL.createObjectURL(blob);\n",
              "      a.download = filename;\n",
              "      div.appendChild(a);\n",
              "      a.click();\n",
              "      div.remove();\n",
              "    }\n",
              "  "
            ]
          },
          "metadata": {}
        },
        {
          "output_type": "display_data",
          "data": {
            "text/plain": [
              "<IPython.core.display.Javascript object>"
            ],
            "application/javascript": [
              "download(\"download_11a67784-9146-4c9a-8d46-3eb125aa3f98\", \"vecs.tsv\", 181854)"
            ]
          },
          "metadata": {}
        },
        {
          "output_type": "display_data",
          "data": {
            "text/plain": [
              "<IPython.core.display.Javascript object>"
            ],
            "application/javascript": [
              "\n",
              "    async function download(id, filename, size) {\n",
              "      if (!google.colab.kernel.accessAllowed) {\n",
              "        return;\n",
              "      }\n",
              "      const div = document.createElement('div');\n",
              "      const label = document.createElement('label');\n",
              "      label.textContent = `Downloading \"${filename}\": `;\n",
              "      div.appendChild(label);\n",
              "      const progress = document.createElement('progress');\n",
              "      progress.max = size;\n",
              "      div.appendChild(progress);\n",
              "      document.body.appendChild(div);\n",
              "\n",
              "      const buffers = [];\n",
              "      let downloaded = 0;\n",
              "\n",
              "      const channel = await google.colab.kernel.comms.open(id);\n",
              "      // Send a message to notify the kernel that we're ready.\n",
              "      channel.send({})\n",
              "\n",
              "      for await (const message of channel.messages) {\n",
              "        // Send a message to notify the kernel that we're ready.\n",
              "        channel.send({})\n",
              "        if (message.buffers) {\n",
              "          for (const buffer of message.buffers) {\n",
              "            buffers.push(buffer);\n",
              "            downloaded += buffer.byteLength;\n",
              "            progress.value = downloaded;\n",
              "          }\n",
              "        }\n",
              "      }\n",
              "      const blob = new Blob(buffers, {type: 'application/binary'});\n",
              "      const a = document.createElement('a');\n",
              "      a.href = window.URL.createObjectURL(blob);\n",
              "      a.download = filename;\n",
              "      div.appendChild(a);\n",
              "      a.click();\n",
              "      div.remove();\n",
              "    }\n",
              "  "
            ]
          },
          "metadata": {}
        },
        {
          "output_type": "display_data",
          "data": {
            "text/plain": [
              "<IPython.core.display.Javascript object>"
            ],
            "application/javascript": [
              "download(\"download_7115962d-ae22-437a-9c26-a8f55d9be7cc\", \"meta.tsv\", 6524)"
            ]
          },
          "metadata": {}
        }
      ]
    }
  ]
}