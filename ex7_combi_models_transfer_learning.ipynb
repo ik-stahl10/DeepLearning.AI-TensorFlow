{
  "nbformat": 4,
  "nbformat_minor": 0,
  "metadata": {
    "colab": {
      "provenance": [],
      "authorship_tag": "ABX9TyMwCuHkGQxybaYkNdO4Dq8r"
    },
    "kernelspec": {
      "name": "python3",
      "display_name": "Python 3"
    },
    "language_info": {
      "name": "python"
    },
    "accelerator": "GPU",
    "gpuClass": "standard"
  },
  "cells": [
    {
      "cell_type": "markdown",
      "source": [
        "Imports and Hyperparameters\n"
      ],
      "metadata": {
        "id": "fvzCkf_WUrhw"
      }
    },
    {
      "cell_type": "code",
      "source": [
        "import json\n",
        "import tensorflow as tf\n",
        "import csv\n",
        "import random\n",
        "import numpy as np\n",
        "\n",
        "from tensorflow.keras.preprocessing.text import Tokenizer\n",
        "from tensorflow.keras.preprocessing.sequence import pad_sequences\n",
        "from tensorflow.keras.utils import to_categorical\n",
        "from tensorflow.keras import regularizers\n",
        "\n",
        "\n",
        "embedding_dim = 100\n",
        "max_length = 16\n",
        "trunc_type='post'\n",
        "padding_type='post'\n",
        "oov_tok = \"\"\n",
        "dataset_size= 160000 \n",
        "test_portion=.1\n",
        "\n",
        "corpus = []"
      ],
      "metadata": {
        "id": "7sXx1fuOUsQ3"
      },
      "execution_count": 1,
      "outputs": []
    },
    {
      "cell_type": "markdown",
      "source": [],
      "metadata": {
        "id": "mQneBRmUUul5"
      }
    },
    {
      "cell_type": "markdown",
      "source": [
        "1 Data\n"
      ],
      "metadata": {
        "id": "RrKfZcaNUwFg"
      }
    },
    {
      "cell_type": "code",
      "source": [
        "!wget --no-check-certificate \\\n",
        "    https://storage.googleapis.com/laurencemoroney-blog.appspot.com/training_cleaned.csv \\\n",
        "    -O /tmp/training_cleaned.csv"
      ],
      "metadata": {
        "id": "SNHialODUwnR"
      },
      "execution_count": null,
      "outputs": []
    },
    {
      "cell_type": "code",
      "source": [
        "num_sentences = 0\n",
        "with open(\"/tmp/training_cleaned.csv\") as csvfile:\n",
        "    reader = csv.reader(csvfile, delimiter=',')\n",
        "    for row in reader:\n",
        "      \n",
        "      \n",
        "      list_item=[]\n",
        "      \n",
        "      list_item.append(row[5])\n",
        "      \n",
        "      if row[0] == '0':\n",
        "        list_item.append(0)\n",
        "      else:\n",
        "        list_item.append(1)\n",
        "\n",
        "      num_sentences = num_sentences + 1\n",
        "      corpus.append(list_item)\n",
        "\n",
        "     \n",
        "\n",
        "print(num_sentences)\n",
        "print(len(corpus))\n",
        "print(corpus[1])"
      ],
      "metadata": {
        "colab": {
          "base_uri": "https://localhost:8080/"
        },
        "id": "6Vm6jdZWU1Cw",
        "outputId": "07883388-09c1-4f91-8bbe-2a22fcc64a92"
      },
      "execution_count": 4,
      "outputs": [
        {
          "output_type": "stream",
          "name": "stdout",
          "text": [
            "1600000\n",
            "3200000\n",
            "[\"is upset that he can't update his Facebook by texting it... and might cry as a result  School today also. Blah!\", 0]\n"
          ]
        }
      ]
    },
    {
      "cell_type": "code",
      "source": [
        "sentences=[]\n",
        "labels=[]\n",
        "random.shuffle(corpus)\n",
        "for x in range(dataset_size):\n",
        "    sentences.append(corpus[x][0])\n",
        "    labels.append(corpus[x][1])\n",
        "\n",
        "split = int(test_portion * dataset_size)\n",
        "train_sentences = sentences[split:dataset_size]\n",
        "train_labels = labels[split:dataset_size]\n",
        "test_sentences = sentences[0:split]\n",
        "test_labels = labels[0:split]\n",
        "\n",
        "tokenizer = Tokenizer(oov_token=oov_tok)\n",
        "tokenizer.fit_on_texts(train_sentences)\n",
        "\n",
        "train_seq = tokenizer.texts_to_sequences(train_sentences)\n",
        "train_padded = pad_sequences(train_seq, maxlen=max_length, padding=padding_type, truncating=trunc_type)\n",
        "\n",
        "test_seq = tokenizer.texts_to_sequences(test_sentences)\n",
        "test_padded = pad_sequences(test_seq, maxlen=max_length, padding=padding_type, truncating=trunc_type)\n",
        "\n",
        "\n",
        "training_padded = np.array(train_padded)\n",
        "training_labels = np.array(train_labels)\n",
        "\n",
        "testing_padded = np.array(test_padded)\n",
        "testing_labels = np.array(test_labels)\n",
        "\n",
        "def get_vocabsize(sentences):\n",
        "  tokenizer_temp = Tokenizer()\n",
        "  tokenizer_temp.fit_on_texts(sentences)\n",
        "\n",
        "  word_index = tokenizer_temp.word_index\n",
        "  vocab_size=len(word_index)\n",
        "\n",
        "  return vocab_size, word_index\n",
        "vocab_size, word_index = get_vocabsize(sentences)\n",
        "     \n",
        "\n",
        "print(vocab_size)\n",
        "print(word_index['i'])"
      ],
      "metadata": {
        "colab": {
          "base_uri": "https://localhost:8080/"
        },
        "id": "TSMJEvJKU8_h",
        "outputId": "1f9e329a-249f-4c88-e1bb-800568cd43a3"
      },
      "execution_count": 5,
      "outputs": [
        {
          "output_type": "stream",
          "name": "stdout",
          "text": [
            "136223\n",
            "1\n"
          ]
        }
      ]
    },
    {
      "cell_type": "markdown",
      "source": [
        "*2 Get Embeddings from GloVe\n"
      ],
      "metadata": {
        "id": "9BGiV6okU_H4"
      }
    },
    {
      "cell_type": "code",
      "source": [
        "!wget --no-check-certificate \\\n",
        "    https://storage.googleapis.com/laurencemoroney-blog.appspot.com/glove.6B.100d.txt \\\n",
        "    -O /tmp/glove.6B.100d.txt\n",
        "    \n",
        "embeddings_index = {};\n",
        "with open('/tmp/glove.6B.100d.txt') as f:\n",
        "    for line in f:\n",
        "        values = line.split();\n",
        "        word = values[0];\n",
        "        coefs = np.asarray(values[1:], dtype='float32');\n",
        "        embeddings_index[word] = coefs;\n",
        "\n",
        "embeddings_matrix = np.zeros((vocab_size+1, embedding_dim));\n",
        "for word, i in word_index.items():\n",
        "    embedding_vector = embeddings_index.get(word);\n",
        "    if embedding_vector is not None:\n",
        "        embeddings_matrix[i] = embedding_vector;"
      ],
      "metadata": {
        "id": "vb8zM8EYU_lx"
      },
      "execution_count": null,
      "outputs": []
    },
    {
      "cell_type": "markdown",
      "source": [
        "3 Model\n"
      ],
      "metadata": {
        "id": "TJaZ-7VCVIVI"
      }
    },
    {
      "cell_type": "code",
      "source": [
        "model = tf.keras.Sequential([\n",
        "    tf.keras.layers.Embedding(vocab_size+1, embedding_dim, input_length=max_length, weights=[embeddings_matrix], trainable=False),\n",
        "    tf.keras.layers.Dropout(0.2),\n",
        "    tf.keras.layers.Conv1D(64, 5, activation=\"relu\"),\n",
        "    tf.keras.layers.MaxPooling1D(pool_size=4),\n",
        "    tf.keras.layers.LSTM(64),\n",
        "    tf.keras.layers.Dense(1, activation=\"sigmoid\")\n",
        "])\n",
        "model.compile(loss='binary_crossentropy',optimizer='adam',metrics=['accuracy'])\n",
        "model.summary()\n",
        "\n",
        "num_epochs = 50\n",
        "history = model.fit(training_padded, training_labels, epochs=num_epochs, validation_data=(testing_padded, testing_labels), verbose=2)\n",
        "\n",
        "print(\"Training Complete\")"
      ],
      "metadata": {
        "colab": {
          "base_uri": "https://localhost:8080/"
        },
        "id": "TkLQ4ihfVItY",
        "outputId": "244ed0fa-5256-4743-c385-c50410ae1d5c"
      },
      "execution_count": 7,
      "outputs": [
        {
          "output_type": "stream",
          "name": "stdout",
          "text": [
            "Model: \"sequential\"\n",
            "_________________________________________________________________\n",
            " Layer (type)                Output Shape              Param #   \n",
            "=================================================================\n",
            " embedding (Embedding)       (None, 16, 100)           13622400  \n",
            "                                                                 \n",
            " dropout (Dropout)           (None, 16, 100)           0         \n",
            "                                                                 \n",
            " conv1d (Conv1D)             (None, 12, 64)            32064     \n",
            "                                                                 \n",
            " max_pooling1d (MaxPooling1D  (None, 3, 64)            0         \n",
            " )                                                               \n",
            "                                                                 \n",
            " lstm (LSTM)                 (None, 64)                33024     \n",
            "                                                                 \n",
            " dense (Dense)               (None, 1)                 65        \n",
            "                                                                 \n",
            "=================================================================\n",
            "Total params: 13,687,553\n",
            "Trainable params: 65,153\n",
            "Non-trainable params: 13,622,400\n",
            "_________________________________________________________________\n",
            "Epoch 1/50\n",
            "4500/4500 - 27s - loss: 0.6932 - accuracy: 0.5004 - val_loss: 0.6931 - val_accuracy: 0.5044 - 27s/epoch - 6ms/step\n",
            "Epoch 2/50\n",
            "4500/4500 - 14s - loss: 0.6932 - accuracy: 0.5004 - val_loss: 0.6931 - val_accuracy: 0.5044 - 14s/epoch - 3ms/step\n",
            "Epoch 3/50\n",
            "4500/4500 - 14s - loss: 0.6932 - accuracy: 0.5016 - val_loss: 0.6934 - val_accuracy: 0.4956 - 14s/epoch - 3ms/step\n",
            "Epoch 4/50\n",
            "4500/4500 - 15s - loss: 0.6932 - accuracy: 0.5012 - val_loss: 0.6931 - val_accuracy: 0.5044 - 15s/epoch - 3ms/step\n",
            "Epoch 5/50\n",
            "4500/4500 - 14s - loss: 0.6932 - accuracy: 0.4983 - val_loss: 0.6932 - val_accuracy: 0.4956 - 14s/epoch - 3ms/step\n",
            "Epoch 6/50\n",
            "4500/4500 - 15s - loss: 0.6932 - accuracy: 0.4988 - val_loss: 0.6932 - val_accuracy: 0.4956 - 15s/epoch - 3ms/step\n",
            "Epoch 7/50\n",
            "4500/4500 - 14s - loss: 0.6932 - accuracy: 0.5011 - val_loss: 0.6932 - val_accuracy: 0.4956 - 14s/epoch - 3ms/step\n",
            "Epoch 8/50\n",
            "4500/4500 - 15s - loss: 0.6932 - accuracy: 0.4995 - val_loss: 0.6931 - val_accuracy: 0.5044 - 15s/epoch - 3ms/step\n",
            "Epoch 9/50\n",
            "4500/4500 - 15s - loss: 0.6932 - accuracy: 0.5015 - val_loss: 0.6932 - val_accuracy: 0.4956 - 15s/epoch - 3ms/step\n",
            "Epoch 10/50\n",
            "4500/4500 - 15s - loss: 0.6932 - accuracy: 0.4998 - val_loss: 0.6932 - val_accuracy: 0.4956 - 15s/epoch - 3ms/step\n",
            "Epoch 11/50\n",
            "4500/4500 - 14s - loss: 0.6932 - accuracy: 0.4973 - val_loss: 0.6931 - val_accuracy: 0.5044 - 14s/epoch - 3ms/step\n",
            "Epoch 12/50\n",
            "4500/4500 - 15s - loss: 0.6932 - accuracy: 0.4992 - val_loss: 0.6931 - val_accuracy: 0.5044 - 15s/epoch - 3ms/step\n",
            "Epoch 13/50\n",
            "4500/4500 - 14s - loss: 0.6932 - accuracy: 0.4997 - val_loss: 0.6931 - val_accuracy: 0.5044 - 14s/epoch - 3ms/step\n",
            "Epoch 14/50\n",
            "4500/4500 - 15s - loss: 0.6932 - accuracy: 0.5007 - val_loss: 0.6932 - val_accuracy: 0.4956 - 15s/epoch - 3ms/step\n",
            "Epoch 15/50\n",
            "4500/4500 - 15s - loss: 0.6932 - accuracy: 0.5010 - val_loss: 0.6931 - val_accuracy: 0.5044 - 15s/epoch - 3ms/step\n",
            "Epoch 16/50\n",
            "4500/4500 - 15s - loss: 0.6932 - accuracy: 0.4983 - val_loss: 0.6932 - val_accuracy: 0.4956 - 15s/epoch - 3ms/step\n",
            "Epoch 17/50\n",
            "4500/4500 - 15s - loss: 0.6932 - accuracy: 0.5016 - val_loss: 0.6933 - val_accuracy: 0.4956 - 15s/epoch - 3ms/step\n",
            "Epoch 18/50\n",
            "4500/4500 - 14s - loss: 0.6932 - accuracy: 0.4993 - val_loss: 0.6932 - val_accuracy: 0.4956 - 14s/epoch - 3ms/step\n",
            "Epoch 19/50\n",
            "4500/4500 - 14s - loss: 0.6932 - accuracy: 0.5013 - val_loss: 0.6932 - val_accuracy: 0.4956 - 14s/epoch - 3ms/step\n",
            "Epoch 20/50\n",
            "4500/4500 - 14s - loss: 0.6932 - accuracy: 0.5006 - val_loss: 0.6931 - val_accuracy: 0.5044 - 14s/epoch - 3ms/step\n",
            "Epoch 21/50\n",
            "4500/4500 - 14s - loss: 0.6932 - accuracy: 0.5000 - val_loss: 0.6932 - val_accuracy: 0.4956 - 14s/epoch - 3ms/step\n",
            "Epoch 22/50\n",
            "4500/4500 - 15s - loss: 0.6932 - accuracy: 0.5000 - val_loss: 0.6932 - val_accuracy: 0.4956 - 15s/epoch - 3ms/step\n",
            "Epoch 23/50\n",
            "4500/4500 - 14s - loss: 0.6932 - accuracy: 0.4992 - val_loss: 0.6932 - val_accuracy: 0.4956 - 14s/epoch - 3ms/step\n",
            "Epoch 24/50\n",
            "4500/4500 - 14s - loss: 0.6932 - accuracy: 0.4996 - val_loss: 0.6932 - val_accuracy: 0.4956 - 14s/epoch - 3ms/step\n",
            "Epoch 25/50\n",
            "4500/4500 - 15s - loss: 0.6932 - accuracy: 0.4994 - val_loss: 0.6932 - val_accuracy: 0.4956 - 15s/epoch - 3ms/step\n",
            "Epoch 26/50\n",
            "4500/4500 - 14s - loss: 0.6932 - accuracy: 0.4996 - val_loss: 0.6933 - val_accuracy: 0.4956 - 14s/epoch - 3ms/step\n",
            "Epoch 27/50\n",
            "4500/4500 - 14s - loss: 0.6932 - accuracy: 0.4990 - val_loss: 0.6932 - val_accuracy: 0.4956 - 14s/epoch - 3ms/step\n",
            "Epoch 28/50\n",
            "4500/4500 - 14s - loss: 0.6932 - accuracy: 0.4989 - val_loss: 0.6931 - val_accuracy: 0.5044 - 14s/epoch - 3ms/step\n",
            "Epoch 29/50\n",
            "4500/4500 - 15s - loss: 0.6932 - accuracy: 0.5019 - val_loss: 0.6932 - val_accuracy: 0.4956 - 15s/epoch - 3ms/step\n",
            "Epoch 30/50\n",
            "4500/4500 - 14s - loss: 0.6932 - accuracy: 0.4973 - val_loss: 0.6931 - val_accuracy: 0.5044 - 14s/epoch - 3ms/step\n",
            "Epoch 31/50\n",
            "4500/4500 - 14s - loss: 0.6932 - accuracy: 0.5007 - val_loss: 0.6932 - val_accuracy: 0.4956 - 14s/epoch - 3ms/step\n",
            "Epoch 32/50\n",
            "4500/4500 - 15s - loss: 0.6932 - accuracy: 0.5003 - val_loss: 0.6931 - val_accuracy: 0.5044 - 15s/epoch - 3ms/step\n",
            "Epoch 33/50\n",
            "4500/4500 - 15s - loss: 0.6932 - accuracy: 0.4986 - val_loss: 0.6933 - val_accuracy: 0.4956 - 15s/epoch - 3ms/step\n",
            "Epoch 34/50\n",
            "4500/4500 - 15s - loss: 0.6932 - accuracy: 0.5000 - val_loss: 0.6933 - val_accuracy: 0.4956 - 15s/epoch - 3ms/step\n",
            "Epoch 35/50\n",
            "4500/4500 - 14s - loss: 0.6932 - accuracy: 0.4993 - val_loss: 0.6931 - val_accuracy: 0.5044 - 14s/epoch - 3ms/step\n",
            "Epoch 36/50\n",
            "4500/4500 - 14s - loss: 0.6932 - accuracy: 0.4997 - val_loss: 0.6932 - val_accuracy: 0.4956 - 14s/epoch - 3ms/step\n",
            "Epoch 37/50\n",
            "4500/4500 - 14s - loss: 0.6932 - accuracy: 0.4998 - val_loss: 0.6931 - val_accuracy: 0.5044 - 14s/epoch - 3ms/step\n",
            "Epoch 38/50\n",
            "4500/4500 - 14s - loss: 0.6932 - accuracy: 0.4993 - val_loss: 0.6932 - val_accuracy: 0.4956 - 14s/epoch - 3ms/step\n",
            "Epoch 39/50\n",
            "4500/4500 - 14s - loss: 0.6932 - accuracy: 0.5021 - val_loss: 0.6932 - val_accuracy: 0.4956 - 14s/epoch - 3ms/step\n",
            "Epoch 40/50\n",
            "4500/4500 - 14s - loss: 0.6932 - accuracy: 0.4992 - val_loss: 0.6931 - val_accuracy: 0.5044 - 14s/epoch - 3ms/step\n",
            "Epoch 41/50\n",
            "4500/4500 - 14s - loss: 0.6932 - accuracy: 0.5005 - val_loss: 0.6932 - val_accuracy: 0.4956 - 14s/epoch - 3ms/step\n",
            "Epoch 42/50\n",
            "4500/4500 - 14s - loss: 0.6932 - accuracy: 0.4999 - val_loss: 0.6932 - val_accuracy: 0.4956 - 14s/epoch - 3ms/step\n",
            "Epoch 43/50\n",
            "4500/4500 - 14s - loss: 0.6932 - accuracy: 0.4989 - val_loss: 0.6932 - val_accuracy: 0.4956 - 14s/epoch - 3ms/step\n",
            "Epoch 44/50\n",
            "4500/4500 - 15s - loss: 0.6932 - accuracy: 0.4990 - val_loss: 0.6933 - val_accuracy: 0.4956 - 15s/epoch - 3ms/step\n",
            "Epoch 45/50\n",
            "4500/4500 - 14s - loss: 0.6932 - accuracy: 0.4986 - val_loss: 0.6931 - val_accuracy: 0.5044 - 14s/epoch - 3ms/step\n",
            "Epoch 46/50\n",
            "4500/4500 - 14s - loss: 0.6932 - accuracy: 0.4996 - val_loss: 0.6932 - val_accuracy: 0.4956 - 14s/epoch - 3ms/step\n",
            "Epoch 47/50\n",
            "4500/4500 - 14s - loss: 0.6932 - accuracy: 0.5012 - val_loss: 0.6931 - val_accuracy: 0.5044 - 14s/epoch - 3ms/step\n",
            "Epoch 48/50\n",
            "4500/4500 - 14s - loss: 0.6932 - accuracy: 0.4968 - val_loss: 0.6933 - val_accuracy: 0.4956 - 14s/epoch - 3ms/step\n",
            "Epoch 49/50\n",
            "4500/4500 - 14s - loss: 0.6932 - accuracy: 0.5010 - val_loss: 0.6931 - val_accuracy: 0.5044 - 14s/epoch - 3ms/step\n",
            "Epoch 50/50\n",
            "4500/4500 - 14s - loss: 0.6932 - accuracy: 0.5002 - val_loss: 0.6931 - val_accuracy: 0.5044 - 14s/epoch - 3ms/step\n",
            "Training Complete\n"
          ]
        }
      ]
    },
    {
      "cell_type": "markdown",
      "source": [
        "4 Plot Accuracy and Loss\n"
      ],
      "metadata": {
        "id": "rSs3jQXGVNnA"
      }
    },
    {
      "cell_type": "code",
      "source": [
        "import matplotlib.image  as mpimg\n",
        "import matplotlib.pyplot as plt\n",
        "\n",
        "\n",
        "acc=history.history['accuracy']\n",
        "val_acc=history.history['val_accuracy']\n",
        "loss=history.history['loss']\n",
        "val_loss=history.history['val_loss']\n",
        "\n",
        "epochs=range(len(acc)) \n",
        "\n",
        "plt.plot(epochs, acc, 'r')\n",
        "plt.plot(epochs, val_acc, 'b')\n",
        "plt.title('Training and validation accuracy')\n",
        "plt.xlabel(\"Epochs\")\n",
        "plt.ylabel(\"Accuracy\")\n",
        "plt.legend([\"Accuracy\", \"Validation Accuracy\"])\n",
        "\n",
        "plt.figure()\n",
        "\n",
        "plt.plot(epochs, loss, 'r')\n",
        "plt.plot(epochs, val_loss, 'b')\n",
        "plt.title('Training and validation loss')\n",
        "plt.xlabel(\"Epochs\")\n",
        "plt.ylabel(\"Loss\")\n",
        "plt.legend([\"Loss\", \"Validation Loss\"])\n",
        "\n",
        "plt.figure()\n"
      ],
      "metadata": {
        "colab": {
          "base_uri": "https://localhost:8080/",
          "height": 608
        },
        "id": "zxVoNzebVOdo",
        "outputId": "3784b74b-e1f3-46f5-9077-187cfb4bcee3"
      },
      "execution_count": 8,
      "outputs": [
        {
          "output_type": "execute_result",
          "data": {
            "text/plain": [
              "<Figure size 432x288 with 0 Axes>"
            ]
          },
          "metadata": {},
          "execution_count": 8
        },
        {
          "output_type": "display_data",
          "data": {
            "text/plain": [
              "<Figure size 432x288 with 1 Axes>"
            ],
            "image/png": "[encoded data removed]"
          },
          "metadata": {
            "needs_background": "light"
          }
        },
        {
          "output_type": "display_data",
          "data": {
            "text/plain": [
              "<Figure size 432x288 with 1 Axes>"
            ],
            "image/png": "[encoded data removed]"
          },
          "metadata": {
            "needs_background": "light"
          }
        },
        {
          "output_type": "display_data",
          "data": {
            "text/plain": [
              "<Figure size 432x288 with 0 Axes>"
            ]
          },
          "metadata": {}
        }
      ]
    }
  ]
}