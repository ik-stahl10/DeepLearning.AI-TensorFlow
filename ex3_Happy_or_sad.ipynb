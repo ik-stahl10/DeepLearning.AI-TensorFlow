{
  "nbformat": 4,
  "nbformat_minor": 0,
  "metadata": {
    "colab": {
      "provenance": [],
      "authorship_tag": "ABX9TyMi7x89FSuMAiJb02fmctNr"
    },
    "kernelspec": {
      "name": "python3",
      "display_name": "Python 3"
    },
    "language_info": {
      "name": "python"
    }
  },
  "cells": [
    {
      "cell_type": "code",
      "execution_count": 2,
      "metadata": {
        "colab": {
          "base_uri": "https://localhost:8080/"
        },
        "id": "ixwoiLhRum7m",
        "outputId": "92d80983-1477-4bed-95e3-1bdb328633f5"
      },
      "outputs": [
        {
          "output_type": "stream",
          "name": "stdout",
          "text": [
            "--2022-12-14 08:25:55--  https://storage.googleapis.com/laurencemoroney-blog.appspot.com/happy-or-sad.zip\n",
            "Resolving storage.googleapis.com (storage.googleapis.com)... 173.194.214.128, 173.194.215.128, 173.194.216.128, ...\n",
            "Connecting to storage.googleapis.com (storage.googleapis.com)|173.194.214.128|:443... connected.\n",
            "HTTP request sent, awaiting response... 200 OK\n",
            "Length: 2670333 (2.5M) [application/zip]\n",
            "Saving to: ‘/tmp/happy-or-sad.zip’\n",
            "\n",
            "\r/tmp/happy-or-sad.z   0%[                    ]       0  --.-KB/s               \r/tmp/happy-or-sad.z 100%[===================>]   2.55M  --.-KB/s    in 0.02s   \n",
            "\n",
            "2022-12-14 08:25:55 (141 MB/s) - ‘/tmp/happy-or-sad.zip’ saved [2670333/2670333]\n",
            "\n"
          ]
        }
      ],
      "source": [
        "import tensorflow as tf\n",
        "import os\n",
        "import zipfile\n",
        "\n",
        "DESIRED_ACCURACY = 0.999\n",
        "\n",
        "!wget --no-check-certificate \\\n",
        "    \"https://storage.googleapis.com/laurencemoroney-blog.appspot.com/happy-or-sad.zip\" \\\n",
        "    -O \"/tmp/happy-or-sad.zip\"\n",
        "\n",
        "zip_ref = zipfile.ZipFile(\"/tmp/happy-or-sad.zip\", 'r')\n",
        "zip_ref.extractall(\"/tmp/h-or-s\")\n",
        "zip_ref.close()\n"
      ]
    },
    {
      "cell_type": "code",
      "source": [
        "class myCallback(keras.callbacks.Callback):\n",
        "  def on_epoch_end(self, epochs, logs={}):\n",
        "    if(logs.get(\"accuracy\") >= 0.999):\n",
        "      print(\"Reached 99% training accuracy so stopping\")\n",
        "      self.model.stop_training = True"
      ],
      "metadata": {
        "id": "xyGwkfLbvCpL"
      },
      "execution_count": 3,
      "outputs": []
    },
    {
      "cell_type": "code",
      "source": [
        "# data dir\n",
        "train_dir = \"/tmp/h-or-s\""
      ],
      "metadata": {
        "id": "h1wLyRDtvDRD"
      },
      "execution_count": 4,
      "outputs": []
    },
    {
      "cell_type": "code",
      "source": [
        "# get data and load it\n",
        "from keras.preprocessing import image\n",
        "\n",
        "train_datagen = image.ImageDataGenerator(rescale=1/255)\n",
        "\n",
        "train_generator = train_datagen.flow_from_directory(\n",
        "    train_dir, \n",
        "    target_size = (150,150),\n",
        "    class_mode = \"binary\"\n",
        ")"
      ],
      "metadata": {
        "colab": {
          "base_uri": "https://localhost:8080/"
        },
        "id": "5iITf8O3vFh5",
        "outputId": "5c09b562-7a78-4837-feaa-ed4f73e402bf"
      },
      "execution_count": 5,
      "outputs": [
        {
          "output_type": "stream",
          "name": "stdout",
          "text": [
            "Found 80 images belonging to 2 classes.\n"
          ]
        }
      ]
    },
    {
      "cell_type": "code",
      "source": [
        "# create model\n",
        "\n",
        "model = keras.models.Sequential([\n",
        "    keras.layers.Conv2D(64, (3,3), activation=\"relu\", input_shape=(150,150,3)),\n",
        "    keras.layers.MaxPooling2D(2,2),\n",
        "    keras.layers.Conv2D(128, (3,3), activation=\"relu\"),\n",
        "    keras.layers.MaxPooling2D(2,2),\n",
        "    keras.layers.Conv2D(256, (3,3), activation=\"relu\"),\n",
        "    keras.layers.MaxPooling2D(2,2),\n",
        "\n",
        "    keras.layers.Flatten(),\n",
        "    keras.layers.Dense(512, activation=\"relu\"),\n",
        "    keras.layers.Dense(1, activation=\"sigmoid\")\n",
        "])\n",
        "\n",
        "model.summary()"
      ],
      "metadata": {
        "colab": {
          "base_uri": "https://localhost:8080/"
        },
        "id": "h4v8tYWCvbcY",
        "outputId": "1293e675-e554-4208-ffea-a0457b5fd315"
      },
      "execution_count": 6,
      "outputs": [
        {
          "output_type": "stream",
          "name": "stdout",
          "text": [
            "Model: \"sequential\"\n",
            "_________________________________________________________________\n",
            " Layer (type)                Output Shape              Param #   \n",
            "=================================================================\n",
            " conv2d (Conv2D)             (None, 148, 148, 64)      1792      \n",
            "                                                                 \n",
            " max_pooling2d (MaxPooling2D  (None, 74, 74, 64)       0         \n",
            " )                                                               \n",
            "                                                                 \n",
            " conv2d_1 (Conv2D)           (None, 72, 72, 128)       73856     \n",
            "                                                                 \n",
            " max_pooling2d_1 (MaxPooling  (None, 36, 36, 128)      0         \n",
            " 2D)                                                             \n",
            "                                                                 \n",
            " conv2d_2 (Conv2D)           (None, 34, 34, 256)       295168    \n",
            "                                                                 \n",
            " max_pooling2d_2 (MaxPooling  (None, 17, 17, 256)      0         \n",
            " 2D)                                                             \n",
            "                                                                 \n",
            " flatten (Flatten)           (None, 73984)             0         \n",
            "                                                                 \n",
            " dense (Dense)               (None, 512)               37880320  \n",
            "                                                                 \n",
            " dense_1 (Dense)             (None, 1)                 513       \n",
            "                                                                 \n",
            "=================================================================\n",
            "Total params: 38,251,649\n",
            "Trainable params: 38,251,649\n",
            "Non-trainable params: 0\n",
            "_________________________________________________________________\n"
          ]
        }
      ]
    },
    {
      "cell_type": "code",
      "source": [
        "# compile\n",
        "\n",
        "model.compile(loss=\"binary_crossentropy\", optimizer=keras.optimizers.RMSprop(lr=0.001), metrics=[\"accuracy\"])"
      ],
      "metadata": {
        "colab": {
          "base_uri": "https://localhost:8080/"
        },
        "id": "SJTxU2fPviUS",
        "outputId": "ffa810d0-ea9b-4ef7-911a-c50c65c192f3"
      },
      "execution_count": 7,
      "outputs": [
        {
          "output_type": "stream",
          "name": "stderr",
          "text": [
            "/usr/local/lib/python3.8/dist-packages/keras/optimizers/optimizer_v2/rmsprop.py:135: UserWarning: The `lr` argument is deprecated, use `learning_rate` instead.\n",
            "  super(RMSprop, self).__init__(name, **kwargs)\n"
          ]
        }
      ]
    },
    {
      "cell_type": "code",
      "source": [
        "callbacks = myCallback()\n",
        "model.fit_generator(\n",
        "    train_generator,\n",
        "    epochs = 20,\n",
        "    callbacks=[callbacks]\n",
        ")"
      ],
      "metadata": {
        "colab": {
          "base_uri": "https://localhost:8080/"
        },
        "id": "zth3jvzzviwB",
        "outputId": "bc5c89ed-87bf-4bd4-936b-d28cb71693a5"
      },
      "execution_count": 8,
      "outputs": [
        {
          "output_type": "stream",
          "name": "stderr",
          "text": [
            "<ipython-input-8-59b0f6d5961a>:2: UserWarning: `Model.fit_generator` is deprecated and will be removed in a future version. Please use `Model.fit`, which supports generators.\n",
            "  model.fit_generator(\n"
          ]
        },
        {
          "output_type": "stream",
          "name": "stdout",
          "text": [
            "Epoch 1/20\n",
            "3/3 [==============================] - 13s 4s/step - loss: 10.8502 - accuracy: 0.6500\n",
            "Epoch 2/20\n",
            "3/3 [==============================] - 10s 3s/step - loss: 0.7142 - accuracy: 0.4750\n",
            "Epoch 3/20\n",
            "3/3 [==============================] - 10s 4s/step - loss: 1.3073 - accuracy: 0.6875\n",
            "Epoch 4/20\n",
            "3/3 [==============================] - 10s 3s/step - loss: 0.7426 - accuracy: 0.4500\n",
            "Epoch 5/20\n",
            "3/3 [==============================] - 10s 4s/step - loss: 0.5373 - accuracy: 0.8500\n",
            "Epoch 6/20\n",
            "3/3 [==============================] - 10s 4s/step - loss: 0.5260 - accuracy: 0.7000\n",
            "Epoch 7/20\n",
            "3/3 [==============================] - 10s 3s/step - loss: 0.3441 - accuracy: 0.8500\n",
            "Epoch 8/20\n",
            "3/3 [==============================] - 10s 3s/step - loss: 0.1826 - accuracy: 0.9500\n",
            "Epoch 9/20\n",
            "3/3 [==============================] - 10s 4s/step - loss: 0.1604 - accuracy: 0.9750\n",
            "Epoch 10/20\n",
            "3/3 [==============================] - 10s 4s/step - loss: 0.1916 - accuracy: 0.9500\n",
            "Epoch 11/20\n",
            "3/3 [==============================] - 10s 4s/step - loss: 0.2448 - accuracy: 0.9000\n",
            "Epoch 12/20\n",
            "3/3 [==============================] - 12s 4s/step - loss: 0.1051 - accuracy: 0.9500\n",
            "Epoch 13/20\n",
            "3/3 [==============================] - ETA: 0s - loss: 0.0475 - accuracy: 1.0000Reached 99% training accuracy so stopping\n",
            "3/3 [==============================] - 11s 3s/step - loss: 0.0475 - accuracy: 1.0000\n"
          ]
        },
        {
          "output_type": "execute_result",
          "data": {
            "text/plain": [
              "<keras.callbacks.History at 0x7fa03caae370>"
            ]
          },
          "metadata": {},
          "execution_count": 8
        }
      ]
    },
    {
      "cell_type": "code",
      "source": [
        "model.save(\"ex3.h5\")"
      ],
      "metadata": {
        "id": "afzN21AOvkvK"
      },
      "execution_count": 10,
      "outputs": []
    }
  ]
}