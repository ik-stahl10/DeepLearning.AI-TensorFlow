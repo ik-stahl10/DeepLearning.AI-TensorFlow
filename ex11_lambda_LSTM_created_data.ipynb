{
  "nbformat": 4,
  "nbformat_minor": 0,
  "metadata": {
    "colab": {
      "provenance": [],
      "authorship_tag": "ABX9TyP3TTv7R1jaj5QL9mwTox0v"
    },
    "kernelspec": {
      "name": "python3",
      "display_name": "Python 3"
    },
    "language_info": {
      "name": "python"
    }
  },
  "cells": [
    {
      "cell_type": "code",
      "execution_count": 1,
      "metadata": {
        "id": "1Y3qnza6cDrU"
      },
      "outputs": [],
      "source": [
        "import tensorflow as tf\n",
        "import numpy as np\n",
        "import matplotlib.pyplot as plt"
      ]
    },
    {
      "cell_type": "markdown",
      "source": [
        "1 Data\n",
        "\n",
        "1.1 Create Time Series Data"
      ],
      "metadata": {
        "id": "yeEuoGu3coT5"
      }
    },
    {
      "cell_type": "code",
      "source": [
        "def plot_series(time, series, format=\"-\", start=0, end=None):\n",
        "    plt.plot(time[start:end], series[start:end], format)\n",
        "    plt.xlabel(\"Time\")\n",
        "    plt.ylabel(\"Value\")\n",
        "    plt.grid(False)\n",
        "\n",
        "def trend(time, slope=0):\n",
        "    return slope * time\n",
        "\n",
        "def seasonal_pattern(season_time):\n",
        "    \"\"\"Just an arbitrary pattern, you can change it if you wish\"\"\"\n",
        "    return np.where(season_time < 0.1,\n",
        "                    np.cos(season_time * 6 * np.pi),\n",
        "                    2 / np.exp(9 * season_time))\n",
        "\n",
        "def seasonality(time, period, amplitude=1, phase=0):\n",
        "    \"\"\"Repeats the same pattern at each period\"\"\"\n",
        "    season_time = ((time + phase) % period) / period\n",
        "    return amplitude * seasonal_pattern(season_time)\n",
        "\n",
        "def noise(time, noise_level=1, seed=None):\n",
        "    rnd = np.random.RandomState(seed)\n",
        "    return rnd.randn(len(time)) * noise_level\n",
        "\n",
        "time = np.arange(10 * 365 + 1, dtype=\"float32\")\n",
        "baseline = 10\n",
        "series = trend(time, 0.1)  \n",
        "baseline = 10\n",
        "amplitude = 40\n",
        "slope = 0.005\n",
        "noise_level = 3\n",
        "\n",
        "# Create the series\n",
        "series = baseline + trend(time, slope) + seasonality(time, period=365, amplitude=amplitude)\n",
        "# Update with noise\n",
        "series += noise(time, noise_level, seed=51)"
      ],
      "metadata": {
        "id": "_sajemoicq6g"
      },
      "execution_count": 2,
      "outputs": []
    },
    {
      "cell_type": "markdown",
      "source": [
        "1.2 Split Data\n"
      ],
      "metadata": {
        "id": "_lX44MbLcuDQ"
      }
    },
    {
      "cell_type": "code",
      "source": [
        "split_time = 3000\n",
        "time_train = time[:split_time]\n",
        "x_train = series[:split_time]\n",
        "time_valid = time[split_time:]\n",
        "x_valid = series[split_time:]"
      ],
      "metadata": {
        "id": "3VimLwxNcvlg"
      },
      "execution_count": 3,
      "outputs": []
    },
    {
      "cell_type": "markdown",
      "source": [
        "1.3 Windowed Dataset\n"
      ],
      "metadata": {
        "id": "COIQQNKLcxfw"
      }
    },
    {
      "cell_type": "code",
      "source": [
        "window_size = 20\n",
        "batch_size = 32\n",
        "shuffle_buffer_size = 1000\n",
        "\n",
        "plot_series(time, series)"
      ],
      "metadata": {
        "colab": {
          "base_uri": "https://localhost:8080/",
          "height": 279
        },
        "id": "w2k15T52cz-Z",
        "outputId": "efaad810-89bb-4950-ef31-a16958fd1a9b"
      },
      "execution_count": 4,
      "outputs": [
        {
          "output_type": "display_data",
          "data": {
            "text/plain": [
              "<Figure size 432x288 with 1 Axes>"
            ],
            "image/png": "[encoded data removed]"
          },
          "metadata": {
            "needs_background": "light"
          }
        }
      ]
    },
    {
      "cell_type": "code",
      "source": [
        "tf.keras.backend.clear_session()\n",
        "tf.random.set_seed(51)\n",
        "np.random.seed(51)\n",
        "     \n",
        "\n",
        "def windowed_dataset(series, window_size, batch_size, shuffle_buffer):\n",
        "  dataset = tf.data.Dataset.from_tensor_slices(series)\n",
        "  dataset = dataset.window(window_size + 1, shift=1, drop_remainder=True)\n",
        "  dataset = dataset.flat_map(lambda window: window.batch(window_size + 1))\n",
        "  dataset = dataset.shuffle(shuffle_buffer).map(lambda window: (window[:-1], window[-1]))\n",
        "  dataset = dataset.batch(batch_size).prefetch(1)\n",
        "  return dataset"
      ],
      "metadata": {
        "id": "l-_xaC58c4PA"
      },
      "execution_count": 5,
      "outputs": []
    },
    {
      "cell_type": "markdown",
      "source": [
        "2 Model\n",
        "\n",
        "2.1 Train model and Pick learning rate"
      ],
      "metadata": {
        "id": "_143ufLlc436"
      }
    },
    {
      "cell_type": "code",
      "source": [
        "tf.keras.backend.clear_session()\n",
        "dataset = windowed_dataset(x_train, window_size, batch_size, shuffle_buffer_size)\n",
        "\n",
        "model = tf.keras.models.Sequential([\n",
        "  tf.keras.layers.Lambda(lambda x: tf.expand_dims(x, axis=-1), input_shape=[None]),\n",
        "    tf.keras.layers.Bidirectional(tf.keras.layers.LSTM(32, return_sequences=True)),\n",
        "  tf.keras.layers.Bidirectional(tf.keras.layers.LSTM(32)),\n",
        "  tf.keras.layers.Dense(1),\n",
        "  tf.keras.layers.Lambda(lambda x: x * 100.0)\n",
        "])\n",
        "\n",
        "lr_schedule = tf.keras.callbacks.LearningRateScheduler(lambda epoch: 1e-8 * 10**(epoch / 20))\n",
        "\n",
        "model.compile(loss=tf.keras.losses.Huber(), optimizer=tf.keras.optimizers.SGD(lr=1e-8, momentum=0.9), metrics=[\"mae\"])\n",
        "\n",
        "history = model.fit(dataset, epochs=100, callbacks=[lr_schedule])"
      ],
      "metadata": {
        "colab": {
          "base_uri": "https://localhost:8080/"
        },
        "id": "9myUaEepc7vp",
        "outputId": "c3717441-6a1c-4ca0-9107-6b6f75d3fb5a"
      },
      "execution_count": 6,
      "outputs": [
        {
          "output_type": "stream",
          "name": "stdout",
          "text": [
            "Epoch 1/100\n"
          ]
        },
        {
          "output_type": "stream",
          "name": "stderr",
          "text": [
            "/usr/local/lib/python3.8/dist-packages/keras/optimizers/optimizer_v2/gradient_descent.py:108: UserWarning: The `lr` argument is deprecated, use `learning_rate` instead.\n",
            "  super(SGD, self).__init__(name, **kwargs)\n"
          ]
        },
        {
          "output_type": "stream",
          "name": "stdout",
          "text": [
            "94/94 [==============================] - 16s 35ms/step - loss: 8.5331 - mae: 9.0204 - lr: 1.0000e-08\n",
            "Epoch 2/100\n",
            "94/94 [==============================] - 3s 31ms/step - loss: 8.0548 - mae: 8.5392 - lr: 1.1220e-08\n",
            "Epoch 3/100\n",
            "94/94 [==============================] - 3s 34ms/step - loss: 7.7249 - mae: 8.2080 - lr: 1.2589e-08\n",
            "Epoch 4/100\n",
            "94/94 [==============================] - 3s 31ms/step - loss: 7.5026 - mae: 7.9862 - lr: 1.4125e-08\n",
            "Epoch 5/100\n",
            "94/94 [==============================] - 3s 31ms/step - loss: 7.3488 - mae: 7.8287 - lr: 1.5849e-08\n",
            "Epoch 6/100\n",
            "94/94 [==============================] - 3s 32ms/step - loss: 7.2340 - mae: 7.7112 - lr: 1.7783e-08\n",
            "Epoch 7/100\n",
            "94/94 [==============================] - 3s 34ms/step - loss: 7.1368 - mae: 7.6127 - lr: 1.9953e-08\n",
            "Epoch 8/100\n",
            "94/94 [==============================] - 3s 33ms/step - loss: 7.0504 - mae: 7.5257 - lr: 2.2387e-08\n",
            "Epoch 9/100\n",
            "94/94 [==============================] - 3s 31ms/step - loss: 6.9634 - mae: 7.4375 - lr: 2.5119e-08\n",
            "Epoch 10/100\n",
            "94/94 [==============================] - 3s 32ms/step - loss: 6.8760 - mae: 7.3503 - lr: 2.8184e-08\n",
            "Epoch 11/100\n",
            "94/94 [==============================] - 3s 33ms/step - loss: 6.7877 - mae: 7.2618 - lr: 3.1623e-08\n",
            "Epoch 12/100\n",
            "94/94 [==============================] - 3s 33ms/step - loss: 6.6884 - mae: 7.1622 - lr: 3.5481e-08\n",
            "Epoch 13/100\n",
            "94/94 [==============================] - 3s 33ms/step - loss: 6.5921 - mae: 7.0658 - lr: 3.9811e-08\n",
            "Epoch 14/100\n",
            "94/94 [==============================] - 5s 51ms/step - loss: 6.4898 - mae: 6.9620 - lr: 4.4668e-08\n",
            "Epoch 15/100\n",
            "94/94 [==============================] - 3s 33ms/step - loss: 6.3824 - mae: 6.8554 - lr: 5.0119e-08\n",
            "Epoch 16/100\n",
            "94/94 [==============================] - 3s 31ms/step - loss: 6.2724 - mae: 6.7452 - lr: 5.6234e-08\n",
            "Epoch 17/100\n",
            "94/94 [==============================] - 3s 30ms/step - loss: 6.1669 - mae: 6.6354 - lr: 6.3096e-08\n",
            "Epoch 18/100\n",
            "94/94 [==============================] - 3s 30ms/step - loss: 6.0660 - mae: 6.5368 - lr: 7.0795e-08\n",
            "Epoch 19/100\n",
            "94/94 [==============================] - 3s 30ms/step - loss: 5.9649 - mae: 6.4362 - lr: 7.9433e-08\n",
            "Epoch 20/100\n",
            "94/94 [==============================] - 3s 30ms/step - loss: 5.8681 - mae: 6.3364 - lr: 8.9125e-08\n",
            "Epoch 21/100\n",
            "94/94 [==============================] - 3s 30ms/step - loss: 5.7798 - mae: 6.2500 - lr: 1.0000e-07\n",
            "Epoch 22/100\n",
            "94/94 [==============================] - 3s 30ms/step - loss: 5.6988 - mae: 6.1674 - lr: 1.1220e-07\n",
            "Epoch 23/100\n",
            "94/94 [==============================] - 4s 39ms/step - loss: 5.6222 - mae: 6.0927 - lr: 1.2589e-07\n",
            "Epoch 24/100\n",
            "94/94 [==============================] - 3s 30ms/step - loss: 5.5643 - mae: 6.0368 - lr: 1.4125e-07\n",
            "Epoch 25/100\n",
            "94/94 [==============================] - 3s 30ms/step - loss: 5.4821 - mae: 5.9507 - lr: 1.5849e-07\n",
            "Epoch 26/100\n",
            "94/94 [==============================] - 3s 30ms/step - loss: 5.4182 - mae: 5.8869 - lr: 1.7783e-07\n",
            "Epoch 27/100\n",
            "94/94 [==============================] - 3s 30ms/step - loss: 5.3519 - mae: 5.8208 - lr: 1.9953e-07\n",
            "Epoch 28/100\n",
            "94/94 [==============================] - 3s 30ms/step - loss: 5.2781 - mae: 5.7450 - lr: 2.2387e-07\n",
            "Epoch 29/100\n",
            "94/94 [==============================] - 3s 30ms/step - loss: 5.2102 - mae: 5.6772 - lr: 2.5119e-07\n",
            "Epoch 30/100\n",
            "94/94 [==============================] - 3s 30ms/step - loss: 5.1435 - mae: 5.6094 - lr: 2.8184e-07\n",
            "Epoch 31/100\n",
            "94/94 [==============================] - 3s 30ms/step - loss: 5.0783 - mae: 5.5444 - lr: 3.1623e-07\n",
            "Epoch 32/100\n",
            "94/94 [==============================] - 3s 30ms/step - loss: 5.0094 - mae: 5.4766 - lr: 3.5481e-07\n",
            "Epoch 33/100\n",
            "94/94 [==============================] - 3s 29ms/step - loss: 4.9447 - mae: 5.4108 - lr: 3.9811e-07\n",
            "Epoch 34/100\n",
            "94/94 [==============================] - 3s 30ms/step - loss: 4.8899 - mae: 5.3553 - lr: 4.4668e-07\n",
            "Epoch 35/100\n",
            "94/94 [==============================] - 3s 30ms/step - loss: 4.8084 - mae: 5.2735 - lr: 5.0119e-07\n",
            "Epoch 36/100\n",
            "94/94 [==============================] - 3s 30ms/step - loss: 4.7382 - mae: 5.2052 - lr: 5.6234e-07\n",
            "Epoch 37/100\n",
            "94/94 [==============================] - 3s 30ms/step - loss: 4.6673 - mae: 5.1340 - lr: 6.3096e-07\n",
            "Epoch 38/100\n",
            "94/94 [==============================] - 3s 30ms/step - loss: 4.5794 - mae: 5.0477 - lr: 7.0795e-07\n",
            "Epoch 39/100\n",
            "94/94 [==============================] - 3s 30ms/step - loss: 4.4864 - mae: 4.9537 - lr: 7.9433e-07\n",
            "Epoch 40/100\n",
            "94/94 [==============================] - 3s 30ms/step - loss: 4.3948 - mae: 4.8611 - lr: 8.9125e-07\n",
            "Epoch 41/100\n",
            "94/94 [==============================] - 3s 31ms/step - loss: 4.2765 - mae: 4.7436 - lr: 1.0000e-06\n",
            "Epoch 42/100\n",
            "94/94 [==============================] - 3s 30ms/step - loss: 4.1617 - mae: 4.6279 - lr: 1.1220e-06\n",
            "Epoch 43/100\n",
            "94/94 [==============================] - 3s 30ms/step - loss: 4.0541 - mae: 4.5201 - lr: 1.2589e-06\n",
            "Epoch 44/100\n",
            "94/94 [==============================] - 3s 30ms/step - loss: 3.9041 - mae: 4.3731 - lr: 1.4125e-06\n",
            "Epoch 45/100\n",
            "94/94 [==============================] - 3s 32ms/step - loss: 3.7959 - mae: 4.2614 - lr: 1.5849e-06\n",
            "Epoch 46/100\n",
            "94/94 [==============================] - 3s 30ms/step - loss: 3.6299 - mae: 4.0975 - lr: 1.7783e-06\n",
            "Epoch 47/100\n",
            "94/94 [==============================] - 3s 34ms/step - loss: 3.4697 - mae: 3.9366 - lr: 1.9953e-06\n",
            "Epoch 48/100\n",
            "94/94 [==============================] - 4s 38ms/step - loss: 3.3350 - mae: 3.8022 - lr: 2.2387e-06\n",
            "Epoch 49/100\n",
            "94/94 [==============================] - 3s 29ms/step - loss: 3.3043 - mae: 3.7710 - lr: 2.5119e-06\n",
            "Epoch 50/100\n",
            "94/94 [==============================] - 3s 30ms/step - loss: 3.2325 - mae: 3.6954 - lr: 2.8184e-06\n",
            "Epoch 51/100\n",
            "94/94 [==============================] - 3s 30ms/step - loss: 3.1285 - mae: 3.5952 - lr: 3.1623e-06\n",
            "Epoch 52/100\n",
            "94/94 [==============================] - 3s 31ms/step - loss: 3.0680 - mae: 3.5327 - lr: 3.5481e-06\n",
            "Epoch 53/100\n",
            "94/94 [==============================] - 3s 30ms/step - loss: 3.0479 - mae: 3.5117 - lr: 3.9811e-06\n",
            "Epoch 54/100\n",
            "94/94 [==============================] - 3s 29ms/step - loss: 3.0215 - mae: 3.4863 - lr: 4.4668e-06\n",
            "Epoch 55/100\n",
            "94/94 [==============================] - 3s 29ms/step - loss: 3.0085 - mae: 3.4741 - lr: 5.0119e-06\n",
            "Epoch 56/100\n",
            "94/94 [==============================] - 3s 30ms/step - loss: 3.0140 - mae: 3.4798 - lr: 5.6234e-06\n",
            "Epoch 57/100\n",
            "94/94 [==============================] - 3s 30ms/step - loss: 2.9946 - mae: 3.4585 - lr: 6.3096e-06\n",
            "Epoch 58/100\n",
            "94/94 [==============================] - 3s 30ms/step - loss: 2.8815 - mae: 3.3452 - lr: 7.0795e-06\n",
            "Epoch 59/100\n",
            "94/94 [==============================] - 3s 30ms/step - loss: 2.9187 - mae: 3.3837 - lr: 7.9433e-06\n",
            "Epoch 60/100\n",
            "94/94 [==============================] - 3s 30ms/step - loss: 2.9255 - mae: 3.3865 - lr: 8.9125e-06\n",
            "Epoch 61/100\n",
            "94/94 [==============================] - 3s 30ms/step - loss: 2.9755 - mae: 3.4440 - lr: 1.0000e-05\n",
            "Epoch 62/100\n",
            "94/94 [==============================] - 3s 29ms/step - loss: 2.9387 - mae: 3.4004 - lr: 1.1220e-05\n",
            "Epoch 63/100\n",
            "94/94 [==============================] - 3s 31ms/step - loss: 2.8456 - mae: 3.3112 - lr: 1.2589e-05\n",
            "Epoch 64/100\n",
            "94/94 [==============================] - 3s 30ms/step - loss: 3.1215 - mae: 3.5883 - lr: 1.4125e-05\n",
            "Epoch 65/100\n",
            "94/94 [==============================] - 3s 30ms/step - loss: 2.9945 - mae: 3.4587 - lr: 1.5849e-05\n",
            "Epoch 66/100\n",
            "94/94 [==============================] - 3s 32ms/step - loss: 2.9556 - mae: 3.4218 - lr: 1.7783e-05\n",
            "Epoch 67/100\n",
            "94/94 [==============================] - 3s 32ms/step - loss: 2.8624 - mae: 3.3258 - lr: 1.9953e-05\n",
            "Epoch 68/100\n",
            "94/94 [==============================] - 3s 31ms/step - loss: 3.0476 - mae: 3.5115 - lr: 2.2387e-05\n",
            "Epoch 69/100\n",
            "94/94 [==============================] - 3s 31ms/step - loss: 3.1869 - mae: 3.6540 - lr: 2.5119e-05\n",
            "Epoch 70/100\n",
            "94/94 [==============================] - 3s 30ms/step - loss: 3.0147 - mae: 3.4795 - lr: 2.8184e-05\n",
            "Epoch 71/100\n",
            "94/94 [==============================] - 3s 30ms/step - loss: 3.1752 - mae: 3.6460 - lr: 3.1623e-05\n",
            "Epoch 72/100\n",
            "94/94 [==============================] - 3s 30ms/step - loss: 3.4010 - mae: 3.8715 - lr: 3.5481e-05\n",
            "Epoch 73/100\n",
            "94/94 [==============================] - 3s 30ms/step - loss: 3.2236 - mae: 3.6923 - lr: 3.9811e-05\n",
            "Epoch 74/100\n",
            "94/94 [==============================] - 3s 30ms/step - loss: 3.0966 - mae: 3.5641 - lr: 4.4668e-05\n",
            "Epoch 75/100\n",
            "94/94 [==============================] - 3s 30ms/step - loss: 3.5199 - mae: 3.9904 - lr: 5.0119e-05\n",
            "Epoch 76/100\n",
            "94/94 [==============================] - 3s 30ms/step - loss: 3.6243 - mae: 4.0959 - lr: 5.6234e-05\n",
            "Epoch 77/100\n",
            "94/94 [==============================] - 3s 31ms/step - loss: 3.0251 - mae: 3.4904 - lr: 6.3096e-05\n",
            "Epoch 78/100\n",
            "94/94 [==============================] - 3s 30ms/step - loss: 3.3782 - mae: 3.8475 - lr: 7.0795e-05\n",
            "Epoch 79/100\n",
            "94/94 [==============================] - 3s 29ms/step - loss: 3.4490 - mae: 3.9196 - lr: 7.9433e-05\n",
            "Epoch 80/100\n",
            "94/94 [==============================] - 3s 29ms/step - loss: 3.3277 - mae: 3.7966 - lr: 8.9125e-05\n",
            "Epoch 81/100\n",
            "94/94 [==============================] - 3s 30ms/step - loss: 3.3459 - mae: 3.8140 - lr: 1.0000e-04\n",
            "Epoch 82/100\n",
            "94/94 [==============================] - 3s 30ms/step - loss: 3.3793 - mae: 3.8499 - lr: 1.1220e-04\n",
            "Epoch 83/100\n",
            "94/94 [==============================] - 3s 29ms/step - loss: 3.2160 - mae: 3.6833 - lr: 1.2589e-04\n",
            "Epoch 84/100\n",
            "94/94 [==============================] - 3s 30ms/step - loss: 3.2921 - mae: 3.7619 - lr: 1.4125e-04\n",
            "Epoch 85/100\n",
            "94/94 [==============================] - 3s 29ms/step - loss: 3.7394 - mae: 4.2124 - lr: 1.5849e-04\n",
            "Epoch 86/100\n",
            "94/94 [==============================] - 3s 29ms/step - loss: 3.7384 - mae: 4.2111 - lr: 1.7783e-04\n",
            "Epoch 87/100\n",
            "94/94 [==============================] - 3s 29ms/step - loss: 3.5371 - mae: 4.0071 - lr: 1.9953e-04\n",
            "Epoch 88/100\n",
            "94/94 [==============================] - 3s 29ms/step - loss: 3.1762 - mae: 3.6465 - lr: 2.2387e-04\n",
            "Epoch 89/100\n",
            "94/94 [==============================] - 3s 29ms/step - loss: 4.1181 - mae: 4.5963 - lr: 2.5119e-04\n",
            "Epoch 90/100\n",
            "94/94 [==============================] - 3s 30ms/step - loss: 4.0454 - mae: 4.5198 - lr: 2.8184e-04\n",
            "Epoch 91/100\n",
            "94/94 [==============================] - 3s 29ms/step - loss: 3.7869 - mae: 4.2616 - lr: 3.1623e-04\n",
            "Epoch 92/100\n",
            "94/94 [==============================] - 3s 31ms/step - loss: 3.7408 - mae: 4.2139 - lr: 3.5481e-04\n",
            "Epoch 93/100\n",
            "94/94 [==============================] - 3s 29ms/step - loss: 3.2666 - mae: 3.7361 - lr: 3.9811e-04\n",
            "Epoch 94/100\n",
            "94/94 [==============================] - 3s 29ms/step - loss: 3.2168 - mae: 3.6872 - lr: 4.4668e-04\n",
            "Epoch 95/100\n",
            "94/94 [==============================] - 3s 29ms/step - loss: 3.5791 - mae: 4.0511 - lr: 5.0119e-04\n",
            "Epoch 96/100\n",
            "94/94 [==============================] - 3s 30ms/step - loss: 3.5094 - mae: 3.9826 - lr: 5.6234e-04\n",
            "Epoch 97/100\n",
            "94/94 [==============================] - 3s 30ms/step - loss: 4.4814 - mae: 4.9584 - lr: 6.3096e-04\n",
            "Epoch 98/100\n",
            "94/94 [==============================] - 3s 29ms/step - loss: 4.1409 - mae: 4.6183 - lr: 7.0795e-04\n",
            "Epoch 99/100\n",
            "94/94 [==============================] - 3s 30ms/step - loss: 3.5503 - mae: 4.0209 - lr: 7.9433e-04\n",
            "Epoch 100/100\n",
            "94/94 [==============================] - 3s 29ms/step - loss: 5.3044 - mae: 5.7881 - lr: 8.9125e-04\n"
          ]
        }
      ]
    },
    {
      "cell_type": "code",
      "source": [
        "plt.semilogx(history.history[\"lr\"], history.history[\"loss\"])\n",
        "plt.axis([1e-8, 1e-4, 0, 30])"
      ],
      "metadata": {
        "colab": {
          "base_uri": "https://localhost:8080/",
          "height": 290
        },
        "id": "DyNgINr0dBFI",
        "outputId": "5388d2b9-cc2a-4f58-b977-be09d49036c7"
      },
      "execution_count": 7,
      "outputs": [
        {
          "output_type": "execute_result",
          "data": {
            "text/plain": [
              "(1e-08, 0.0001, 0.0, 30.0)"
            ]
          },
          "metadata": {},
          "execution_count": 7
        },
        {
          "output_type": "display_data",
          "data": {
            "text/plain": [
              "<Figure size 432x288 with 1 Axes>"
            ],
            "image/png": "[encoded data removed]"
          },
          "metadata": {
            "needs_background": "light"
          }
        }
      ]
    },
    {
      "cell_type": "markdown",
      "source": [
        "2 Model\n"
      ],
      "metadata": {
        "id": "sJh3-Gk5dC9o"
      }
    },
    {
      "cell_type": "code",
      "source": [
        "tf.keras.backend.clear_session()\n",
        "tf.random.set_seed(51)\n",
        "np.random.seed(51)\n",
        "\n",
        "tf.keras.backend.clear_session()\n",
        "dataset = windowed_dataset(x_train, window_size, batch_size, shuffle_buffer_size)\n",
        "\n",
        "model = tf.keras.models.Sequential([\n",
        "  tf.keras.layers.Lambda(lambda x: tf.expand_dims(x, axis=-1), input_shape=[None]),\n",
        "    tf.keras.layers.Bidirectional(tf.keras.layers.LSTM(32, return_sequences=True)),\n",
        "  tf.keras.layers.Bidirectional(tf.keras.layers.LSTM(32)),\n",
        "  tf.keras.layers.Dense(1),\n",
        "  tf.keras.layers.Lambda(lambda x: x * 100.0)\n",
        "])\n",
        "\n",
        "model.compile(loss=\"mse\", optimizer=tf.keras.optimizers.SGD(lr=1e-5, momentum=0.9),metrics=[\"mae\"])\n",
        "history = model.fit(dataset,epochs=100,verbose=1)"
      ],
      "metadata": {
        "colab": {
          "base_uri": "https://localhost:8080/"
        },
        "id": "IYWHYKB_dDfA",
        "outputId": "448a4c49-d613-4750-b0d7-194a73d4db35"
      },
      "execution_count": 9,
      "outputs": [
        {
          "output_type": "stream",
          "name": "stdout",
          "text": [
            "Epoch 1/100\n",
            "94/94 [==============================] - 12s 30ms/step - loss: 263.1988 - mae: 10.1378\n",
            "Epoch 2/100\n",
            "94/94 [==============================] - 3s 29ms/step - loss: 33.6153 - mae: 3.9017\n",
            "Epoch 3/100\n",
            "94/94 [==============================] - 3s 30ms/step - loss: 27.7103 - mae: 3.5518\n",
            "Epoch 4/100\n",
            "94/94 [==============================] - 3s 30ms/step - loss: 31.9159 - mae: 3.9759\n",
            "Epoch 5/100\n",
            "94/94 [==============================] - 3s 30ms/step - loss: 27.1127 - mae: 3.5515\n",
            "Epoch 6/100\n",
            "94/94 [==============================] - 3s 30ms/step - loss: 25.7764 - mae: 3.4461\n",
            "Epoch 7/100\n",
            "94/94 [==============================] - 3s 29ms/step - loss: 32.1397 - mae: 3.9959\n",
            "Epoch 8/100\n",
            "94/94 [==============================] - 3s 29ms/step - loss: 27.8369 - mae: 3.6121\n",
            "Epoch 9/100\n",
            "94/94 [==============================] - 3s 29ms/step - loss: 29.2938 - mae: 3.8187\n",
            "Epoch 10/100\n",
            "94/94 [==============================] - 3s 29ms/step - loss: 28.0733 - mae: 3.6757\n",
            "Epoch 11/100\n",
            "94/94 [==============================] - 3s 29ms/step - loss: 27.6546 - mae: 3.6672\n",
            "Epoch 12/100\n",
            "94/94 [==============================] - 4s 38ms/step - loss: 25.2645 - mae: 3.4160\n",
            "Epoch 13/100\n",
            "94/94 [==============================] - 3s 33ms/step - loss: 28.1417 - mae: 3.7027\n",
            "Epoch 14/100\n",
            "94/94 [==============================] - 3s 30ms/step - loss: 26.9170 - mae: 3.5711\n",
            "Epoch 15/100\n",
            "94/94 [==============================] - 3s 29ms/step - loss: 25.8985 - mae: 3.4787\n",
            "Epoch 16/100\n",
            "94/94 [==============================] - 3s 30ms/step - loss: 29.4808 - mae: 3.8158\n",
            "Epoch 17/100\n",
            "94/94 [==============================] - 3s 29ms/step - loss: 24.2143 - mae: 3.3191\n",
            "Epoch 18/100\n",
            "94/94 [==============================] - 3s 29ms/step - loss: 26.4903 - mae: 3.5473\n",
            "Epoch 19/100\n",
            "94/94 [==============================] - 3s 29ms/step - loss: 25.5329 - mae: 3.4825\n",
            "Epoch 20/100\n",
            "94/94 [==============================] - 3s 29ms/step - loss: 25.1893 - mae: 3.4211\n",
            "Epoch 21/100\n",
            "94/94 [==============================] - 3s 29ms/step - loss: 27.1048 - mae: 3.5829\n",
            "Epoch 22/100\n",
            "94/94 [==============================] - 3s 29ms/step - loss: 24.7341 - mae: 3.3448\n",
            "Epoch 23/100\n",
            "94/94 [==============================] - 3s 30ms/step - loss: 28.0724 - mae: 3.7013\n",
            "Epoch 24/100\n",
            "94/94 [==============================] - 3s 29ms/step - loss: 25.0951 - mae: 3.4339\n",
            "Epoch 25/100\n",
            "94/94 [==============================] - 3s 29ms/step - loss: 24.3323 - mae: 3.3488\n",
            "Epoch 26/100\n",
            "94/94 [==============================] - 3s 29ms/step - loss: 25.9359 - mae: 3.5183\n",
            "Epoch 27/100\n",
            "94/94 [==============================] - 3s 30ms/step - loss: 29.6889 - mae: 3.7865\n",
            "Epoch 28/100\n",
            "94/94 [==============================] - 3s 30ms/step - loss: 27.8246 - mae: 3.7044\n",
            "Epoch 29/100\n",
            "94/94 [==============================] - 3s 30ms/step - loss: 23.8184 - mae: 3.3226\n",
            "Epoch 30/100\n",
            "94/94 [==============================] - 3s 29ms/step - loss: 23.6580 - mae: 3.2756\n",
            "Epoch 31/100\n",
            "94/94 [==============================] - 3s 30ms/step - loss: 24.8964 - mae: 3.3859\n",
            "Epoch 32/100\n",
            "94/94 [==============================] - 3s 29ms/step - loss: 27.2025 - mae: 3.7034\n",
            "Epoch 33/100\n",
            "94/94 [==============================] - 3s 30ms/step - loss: 24.5939 - mae: 3.3983\n",
            "Epoch 34/100\n",
            "94/94 [==============================] - 3s 31ms/step - loss: 26.9418 - mae: 3.6388\n",
            "Epoch 35/100\n",
            "94/94 [==============================] - 3s 31ms/step - loss: 24.2124 - mae: 3.3517\n",
            "Epoch 36/100\n",
            "94/94 [==============================] - 3s 29ms/step - loss: 26.1243 - mae: 3.5009\n",
            "Epoch 37/100\n",
            "94/94 [==============================] - 3s 30ms/step - loss: 24.2108 - mae: 3.3698\n",
            "Epoch 38/100\n",
            "94/94 [==============================] - 3s 30ms/step - loss: 25.1751 - mae: 3.4867\n",
            "Epoch 39/100\n",
            "94/94 [==============================] - 3s 30ms/step - loss: 29.6484 - mae: 3.8720\n",
            "Epoch 40/100\n",
            "94/94 [==============================] - 3s 29ms/step - loss: 27.6396 - mae: 3.6383\n",
            "Epoch 41/100\n",
            "94/94 [==============================] - 3s 30ms/step - loss: 24.8158 - mae: 3.4319\n",
            "Epoch 42/100\n",
            "94/94 [==============================] - 3s 30ms/step - loss: 24.1857 - mae: 3.3383\n",
            "Epoch 43/100\n",
            "94/94 [==============================] - 3s 30ms/step - loss: 25.2320 - mae: 3.4564\n",
            "Epoch 44/100\n",
            "94/94 [==============================] - 3s 30ms/step - loss: 22.7423 - mae: 3.2177\n",
            "Epoch 45/100\n",
            "94/94 [==============================] - 3s 30ms/step - loss: 26.1130 - mae: 3.5584\n",
            "Epoch 46/100\n",
            "94/94 [==============================] - 3s 30ms/step - loss: 26.3003 - mae: 3.5451\n",
            "Epoch 47/100\n",
            "94/94 [==============================] - 3s 31ms/step - loss: 27.1847 - mae: 3.6459\n",
            "Epoch 48/100\n",
            "94/94 [==============================] - 3s 31ms/step - loss: 25.0236 - mae: 3.4406\n",
            "Epoch 49/100\n",
            "94/94 [==============================] - 3s 33ms/step - loss: 24.7453 - mae: 3.4041\n",
            "Epoch 50/100\n",
            "94/94 [==============================] - 3s 32ms/step - loss: 24.1683 - mae: 3.3799\n",
            "Epoch 51/100\n",
            "94/94 [==============================] - 3s 32ms/step - loss: 23.7089 - mae: 3.2937\n",
            "Epoch 52/100\n",
            "94/94 [==============================] - 3s 33ms/step - loss: 26.3819 - mae: 3.5666\n",
            "Epoch 53/100\n",
            "94/94 [==============================] - 3s 33ms/step - loss: 24.5370 - mae: 3.3710\n",
            "Epoch 54/100\n",
            "94/94 [==============================] - 3s 32ms/step - loss: 23.6158 - mae: 3.2934\n",
            "Epoch 55/100\n",
            "94/94 [==============================] - 3s 29ms/step - loss: 23.2196 - mae: 3.2379\n",
            "Epoch 56/100\n",
            "94/94 [==============================] - 3s 32ms/step - loss: 23.8406 - mae: 3.3371\n",
            "Epoch 57/100\n",
            "94/94 [==============================] - 3s 33ms/step - loss: 23.9307 - mae: 3.3308\n",
            "Epoch 58/100\n",
            "94/94 [==============================] - 3s 32ms/step - loss: 24.5186 - mae: 3.4204\n",
            "Epoch 59/100\n",
            "94/94 [==============================] - 3s 34ms/step - loss: 23.6876 - mae: 3.3415\n",
            "Epoch 60/100\n",
            "94/94 [==============================] - 3s 34ms/step - loss: 23.6655 - mae: 3.2789\n",
            "Epoch 61/100\n",
            "94/94 [==============================] - 3s 34ms/step - loss: 24.8515 - mae: 3.4363\n",
            "Epoch 62/100\n",
            "94/94 [==============================] - 3s 32ms/step - loss: 23.4737 - mae: 3.3026\n",
            "Epoch 63/100\n",
            "94/94 [==============================] - 3s 31ms/step - loss: 23.9637 - mae: 3.3240\n",
            "Epoch 64/100\n",
            "94/94 [==============================] - 3s 31ms/step - loss: 24.0891 - mae: 3.3732\n",
            "Epoch 65/100\n",
            "94/94 [==============================] - 3s 31ms/step - loss: 23.1289 - mae: 3.2762\n",
            "Epoch 66/100\n",
            "94/94 [==============================] - 3s 30ms/step - loss: 25.2905 - mae: 3.4505\n",
            "Epoch 67/100\n",
            "94/94 [==============================] - 3s 29ms/step - loss: 22.6900 - mae: 3.2022\n",
            "Epoch 68/100\n",
            "94/94 [==============================] - 3s 30ms/step - loss: 23.4361 - mae: 3.2604\n",
            "Epoch 69/100\n",
            "94/94 [==============================] - 3s 29ms/step - loss: 24.3627 - mae: 3.4066\n",
            "Epoch 70/100\n",
            "94/94 [==============================] - 3s 30ms/step - loss: 22.6785 - mae: 3.2219\n",
            "Epoch 71/100\n",
            "94/94 [==============================] - 3s 30ms/step - loss: 22.8470 - mae: 3.2379\n",
            "Epoch 72/100\n",
            "94/94 [==============================] - 3s 29ms/step - loss: 22.8695 - mae: 3.2511\n",
            "Epoch 73/100\n",
            "94/94 [==============================] - 3s 30ms/step - loss: 23.5616 - mae: 3.3078\n",
            "Epoch 74/100\n",
            "94/94 [==============================] - 3s 30ms/step - loss: 23.4071 - mae: 3.2647\n",
            "Epoch 75/100\n",
            "94/94 [==============================] - 3s 30ms/step - loss: 23.5623 - mae: 3.3068\n",
            "Epoch 76/100\n",
            "94/94 [==============================] - 3s 30ms/step - loss: 23.1138 - mae: 3.2700\n",
            "Epoch 77/100\n",
            "94/94 [==============================] - 3s 29ms/step - loss: 24.1217 - mae: 3.3795\n",
            "Epoch 78/100\n",
            "94/94 [==============================] - 3s 30ms/step - loss: 21.9296 - mae: 3.1299\n",
            "Epoch 79/100\n",
            "94/94 [==============================] - 3s 29ms/step - loss: 22.5547 - mae: 3.1946\n",
            "Epoch 80/100\n",
            "94/94 [==============================] - 3s 29ms/step - loss: 22.8248 - mae: 3.2368\n",
            "Epoch 81/100\n",
            "94/94 [==============================] - 3s 31ms/step - loss: 23.3678 - mae: 3.2895\n",
            "Epoch 82/100\n",
            "94/94 [==============================] - 3s 29ms/step - loss: 23.6419 - mae: 3.3587\n",
            "Epoch 83/100\n",
            "94/94 [==============================] - 4s 39ms/step - loss: 24.2519 - mae: 3.4740\n",
            "Epoch 84/100\n",
            "94/94 [==============================] - 3s 29ms/step - loss: 22.8469 - mae: 3.2698\n",
            "Epoch 85/100\n",
            "94/94 [==============================] - 3s 29ms/step - loss: 21.5177 - mae: 3.1069\n",
            "Epoch 86/100\n",
            "94/94 [==============================] - 3s 29ms/step - loss: 22.5515 - mae: 3.2007\n",
            "Epoch 87/100\n",
            "94/94 [==============================] - 3s 29ms/step - loss: 24.2311 - mae: 3.4214\n",
            "Epoch 88/100\n",
            "94/94 [==============================] - 3s 30ms/step - loss: 21.6834 - mae: 3.1197\n",
            "Epoch 89/100\n",
            "94/94 [==============================] - 3s 29ms/step - loss: 23.2963 - mae: 3.2804\n",
            "Epoch 90/100\n",
            "94/94 [==============================] - 3s 30ms/step - loss: 22.5803 - mae: 3.2255\n",
            "Epoch 91/100\n",
            "94/94 [==============================] - 3s 29ms/step - loss: 22.9435 - mae: 3.2678\n",
            "Epoch 92/100\n",
            "94/94 [==============================] - 3s 29ms/step - loss: 22.9946 - mae: 3.2492\n",
            "Epoch 93/100\n",
            "94/94 [==============================] - 3s 30ms/step - loss: 21.8950 - mae: 3.1521\n",
            "Epoch 94/100\n",
            "94/94 [==============================] - 3s 29ms/step - loss: 22.7477 - mae: 3.2445\n",
            "Epoch 95/100\n",
            "94/94 [==============================] - 3s 30ms/step - loss: 22.2517 - mae: 3.1707\n",
            "Epoch 96/100\n",
            "94/94 [==============================] - 3s 30ms/step - loss: 22.5484 - mae: 3.2424\n",
            "Epoch 97/100\n",
            "94/94 [==============================] - 3s 29ms/step - loss: 21.5473 - mae: 3.1395\n",
            "Epoch 98/100\n",
            "94/94 [==============================] - 3s 29ms/step - loss: 22.4396 - mae: 3.2505\n",
            "Epoch 99/100\n",
            "94/94 [==============================] - 3s 29ms/step - loss: 24.8146 - mae: 3.4763\n",
            "Epoch 100/100\n",
            "94/94 [==============================] - 3s 30ms/step - loss: 22.2610 - mae: 3.2191\n"
          ]
        }
      ]
    },
    {
      "cell_type": "markdown",
      "source": [
        "3 Forecast\n"
      ],
      "metadata": {
        "id": "ddmlFynFdzaB"
      }
    },
    {
      "cell_type": "code",
      "source": [
        "forecast = []\n",
        "results = []\n",
        "for time in range(len(series) - window_size):\n",
        "  forecast.append(model.predict(series[time:time + window_size][np.newaxis]))\n",
        "\n",
        "forecast = forecast[split_time-window_size:]\n",
        "results = np.array(forecast)[:, 0, 0]\n",
        "\n",
        "\n",
        "plt.figure(figsize=(10, 6))\n",
        "\n",
        "plot_series(time_valid, x_valid)\n",
        "plot_series(time_valid, results)"
      ],
      "metadata": {
        "id": "ur23eq0xd1Zz"
      },
      "execution_count": null,
      "outputs": []
    },
    {
      "cell_type": "markdown",
      "source": [
        "4 Metric: MAE\n"
      ],
      "metadata": {
        "id": "1FukKxdmd3hn"
      }
    },
    {
      "cell_type": "code",
      "source": [
        "tf.keras.metrics.mean_absolute_error(x_valid, results).numpy()\n"
      ],
      "metadata": {
        "colab": {
          "base_uri": "https://localhost:8080/"
        },
        "id": "DbAF0nhbd4C4",
        "outputId": "af39348d-f751-4d09-98c0-d28c7847105e"
      },
      "execution_count": 11,
      "outputs": [
        {
          "output_type": "execute_result",
          "data": {
            "text/plain": [
              "3.1271286"
            ]
          },
          "metadata": {},
          "execution_count": 11
        }
      ]
    },
    {
      "cell_type": "markdown",
      "source": [
        "5 Plot MAE and Loss\n"
      ],
      "metadata": {
        "id": "bmPVD6ZGd5cv"
      }
    },
    {
      "cell_type": "code",
      "source": [
        "import matplotlib.image  as mpimg\n",
        "import matplotlib.pyplot as plt\n",
        "\n",
        "mae=history.history['mae']\n",
        "loss=history.history['loss']\n",
        "\n",
        "epochs=range(len(loss)) \n",
        "\n",
        "plt.plot(epochs, mae, 'r')\n",
        "plt.plot(epochs, loss, 'b')\n",
        "plt.title('MAE and Loss')\n",
        "plt.xlabel(\"Epochs\")\n",
        "plt.ylabel(\"Accuracy\")\n",
        "plt.legend([\"MAE\", \"Loss\"])\n",
        "\n",
        "plt.figure()\n",
        "\n",
        "epochs_zoom = epochs[200:]\n",
        "mae_zoom = mae[200:]\n",
        "loss_zoom = loss[200:]\n",
        "\n",
        "plt.plot(epochs_zoom, mae_zoom, 'r')\n",
        "plt.plot(epochs_zoom, loss_zoom, 'b')\n",
        "plt.title('MAE and Loss')\n",
        "plt.xlabel(\"Epochs\")\n",
        "plt.ylabel(\"Accuracy\")\n",
        "plt.legend([\"MAE\", \"Loss\"])\n",
        "\n",
        "plt.figure()"
      ],
      "metadata": {
        "colab": {
          "base_uri": "https://localhost:8080/",
          "height": 608
        },
        "id": "RA7eHqMwd7LY",
        "outputId": "4e2fc0b0-fb2b-41a5-c5aa-ffc90e49441d"
      },
      "execution_count": 12,
      "outputs": [
        {
          "output_type": "execute_result",
          "data": {
            "text/plain": [
              "<Figure size 432x288 with 0 Axes>"
            ]
          },
          "metadata": {},
          "execution_count": 12
        },
        {
          "output_type": "display_data",
          "data": {
            "text/plain": [
              "<Figure size 432x288 with 1 Axes>"
            ],
            "image/png": "[encoded data removed]"
          },
          "metadata": {
            "needs_background": "light"
          }
        },
        {
          "output_type": "display_data",
          "data": {
            "text/plain": [
              "<Figure size 432x288 with 1 Axes>"
            ],
            "image/png": "[encoded data removed]"
          },
          "metadata": {
            "needs_background": "light"
          }
        },
        {
          "output_type": "display_data",
          "data": {
            "text/plain": [
              "<Figure size 432x288 with 0 Axes>"
            ]
          },
          "metadata": {}
        }
      ]
    }
  ]
}